version https://git-lfs.github.com/spec/v1
oid sha256:d0cfe5d00a77e3624a2b19dcd2500ebb570cf05ca405db7310be41fa0537a680
size 23732514
