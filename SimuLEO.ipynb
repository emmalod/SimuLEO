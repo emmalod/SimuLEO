{
 "cells": [
  {
   "cell_type": "markdown",
   "id": "ebc5ac78",
   "metadata": {},
   "source": [
    "# Geoinformatics Project - A.Y 2023/2024\n",
    "---\n",
    "# SimuLEO\n",
    "### Low Earth Orbit satellites Simulator\n",
    "###### Angelica Iseni, Emma Lodetti"
   ]
  },
  {
   "cell_type": "markdown",
   "id": "5fe2e1aa",
   "metadata": {},
   "source": [
    "The **goal** of this project is to compute the position of each LEO (Low Earth orbit) satellite in the constellation for every second of the day."
   ]
  },
  {
   "cell_type": "markdown",
   "id": "9c56556d",
   "metadata": {},
   "source": [
    "In this script you will be asked to enter: \n",
    "- The **number of orbital planes** of the costellation\n",
    "- The **number of satellites** per orbital plane\n",
    "- The **inclination** of the orbital planes with respect to the reference equatorial plane\n",
    "\n",
    "This information will be used to create almanacs of the constellation satellites."
   ]
  },
  {
   "cell_type": "markdown",
   "id": "d423df21",
   "metadata": {},
   "source": [
    "### Import libraries"
   ]
  },
  {
   "cell_type": "code",
   "execution_count": 1,
   "id": "3af0c756",
   "metadata": {},
   "outputs": [],
   "source": [
    "# Useful libraries\n",
    "\n",
    "import ipywidgets as widgets\n",
    "from IPython.display import display\n",
    "from IPython.display import FileLink\n",
    "import os\n",
    "import pandas as pd\n",
    "#import pyproj\n",
    "import plotly.graph_objects as go\n",
    "import tkinter as tk\n",
    "import oct2py\n",
    "from oct2py import octave"
   ]
  },
  {
   "cell_type": "markdown",
   "id": "47cf7b27",
   "metadata": {},
   "source": [
    "### Functions definition"
   ]
  },
  {
   "cell_type": "code",
   "execution_count": 2,
   "id": "6d234bbd",
   "metadata": {},
   "outputs": [],
   "source": [
    "# Input parameters widget function\n",
    "def user_input(var):\n",
    "    n_orbits = num_orbits.value\n",
    "    n_satellites = num_satellites.value\n",
    "    inclination = orbit_inclination.value\n",
    "    if n_orbits < 0 or n_satellites < 0 or inclination < 0:\n",
    "        print('Error: The numbers cannot be negative. Please insert valid numbers.')\n",
    "    else:\n",
    "        print(f'You have selected {n_orbits} orbital planes with {n_satellites} satellites each, with an inclination of {inclination} degrees.')\n",
    "       \n",
    "# Almanacs txt creation function\n",
    "name_list = []\n",
    "def create_satellite_txt(i_orbit, i_satellite):\n",
    "    # Satellite name creation as \"LEO XXYY\", where XX = orbit number and YY = satellite number\n",
    "    satellite_name = f'LEO{i_orbit:02}{i_satellite:02}'\n",
    "    name_list.append(satellite_name)\n",
    "    # M0 computation\n",
    "    M0 = 360 / num_satellites * (i_satellite - 1) + 360 / num_satellites * ((i_orbit - 1) / num_orbits)\n",
    "    # Omega0 computation\n",
    "    Omega0 = (i_orbit - 1) * 180 / num_orbits\n",
    "    # Almanac content\n",
    "    output_content = f'OrbitRadius {orbit_radius}\\nOrbitInclination {inclination}\\nM0 {M0}\\nOmega0 {Omega0}'\n",
    "    # txt file path\n",
    "    file_path = f'Almanacs{num_orbits:02}{num_satellites:02}{inclination:02}/{satellite_name}.txt'\n",
    "    # Write content in txt file\n",
    "    with open(file_path, 'w') as file:\n",
    "        file.write(output_content)   \n",
    "    # Return list of satellite nemes for plot selection\n",
    "    return name_list\n",
    "\n",
    "# Double path selector for computations\n",
    "def get_paths():\n",
    "    global in_path, out_path\n",
    "    in_path = in_path_entry.get()\n",
    "    in_path = in_path.replace('\\\\', '/')\n",
    "    in_path = in_path.strip('\"')\n",
    "    out_path = out_path_entry.get()\n",
    "    out_path = out_path.replace('\\\\', '/')\n",
    "    out_path = out_path.strip('\"')\n",
    "    print(f\"Input folder path: {in_path}\")\n",
    "    print(f\"Output folder path: {out_path}\")\n",
    "    root.destroy() \n",
    "    return in_path, out_path\n",
    "\n",
    "# Single path selector for plots\n",
    "def get_path():\n",
    "    global selected_path\n",
    "    path = path_entry.get()\n",
    "    path = path.replace('\\\\', '/')\n",
    "    path = path.strip('\"')\n",
    "    selected_path = path\n",
    "    print(f\"Selected path: {path}\")\n",
    "    root.destroy() \n",
    "    return path"
   ]
  },
  {
   "cell_type": "markdown",
   "id": "92d16e75",
   "metadata": {},
   "source": [
    "### Input parameters\n",
    "Insert number of orbits, number of satellites per orbit and inclination of the orbit."
   ]
  },
  {
   "cell_type": "code",
   "execution_count": 7,
   "id": "b9f8892b-237e-44cb-beac-b17d86902f21",
   "metadata": {},
   "outputs": [
    {
     "data": {
      "application/vnd.jupyter.widget-view+json": {
       "model_id": "e0ead468d5ae4971a53243965d81846f",
       "version_major": 2,
       "version_minor": 0
      },
      "text/plain": [
       "IntText(value=0, description='Number of orbital planes:', style=DescriptionStyle(description_width='initial'))"
      ]
     },
     "metadata": {},
     "output_type": "display_data"
    },
    {
     "data": {
      "application/vnd.jupyter.widget-view+json": {
       "model_id": "f5c1a252acfa49f384c703a230d99094",
       "version_major": 2,
       "version_minor": 0
      },
      "text/plain": [
       "IntText(value=0, description='Number of satellites per orbital plane:', style=DescriptionStyle(description_wid…"
      ]
     },
     "metadata": {},
     "output_type": "display_data"
    },
    {
     "data": {
      "application/vnd.jupyter.widget-view+json": {
       "model_id": "4730f54aadec4dd9a343607f131de9cc",
       "version_major": 2,
       "version_minor": 0
      },
      "text/plain": [
       "IntSlider(value=0, description='Orbit inclination:', max=90, style=SliderStyle(description_width='initial'))"
      ]
     },
     "metadata": {},
     "output_type": "display_data"
    },
    {
     "data": {
      "application/vnd.jupyter.widget-view+json": {
       "model_id": "c9e050b93ec54827b90895b2f3720b62",
       "version_major": 2,
       "version_minor": 0
      },
      "text/plain": [
       "Button(description='Submit', style=ButtonStyle())"
      ]
     },
     "metadata": {},
     "output_type": "display_data"
    }
   ],
   "source": [
    "# Widget creation\n",
    "style = {'description_width': 'initial'}\n",
    "num_orbits = widgets.IntText(description='Number of orbital planes:', value=0, style=style)\n",
    "num_satellites = widgets.IntText(description='Number of satellites per orbital plane:', value=0, style=style)\n",
    "orbit_inclination = widgets.IntSlider(description='Orbit inclination:', min=0, max=90, step=1, style=style)\n",
    "    \n",
    "# Submit button\n",
    "submit_button = widgets.Button(description='Submit')\n",
    "submit_button.on_click(user_input)\n",
    "\n",
    "display(num_orbits, num_satellites, orbit_inclination, submit_button)"
   ]
  },
  {
   "cell_type": "markdown",
   "id": "1cda4f06",
   "metadata": {},
   "source": [
    "### Folders and Almanacs creation as txt files\n",
    "This tool produces two different folders: **AlmanacsXXYYZZ** and **SatellitePositionsXXYYZZ**, where:\n",
    "- **XX** = number of orbital planes\n",
    "- **YY** = number of satellites per orbital plane\n",
    "- **ZZ** = inclination of orbital planes\n",
    "\n",
    "**AlmanacsXXYYZZ** contains a set of txt files, one for each satellite of the constellation. Each txt file contains:\n",
    "- Satellite name: **LEOXXYY**, where XX = orbit number and YY = satellite number\n",
    "- Orbit radius = 7180 km\n",
    "- Orbit inclination\n",
    "- $M_0$ = mean anomaly\n",
    "- $\\Omega_0$ = right ascension of the ascending node\n",
    "\n",
    "**SatellitePositionsXXYYZZ** is an empty folder that will contains a set of txt files computed by MATLAB. Each txt file, named as the corrensponding satellite, will contain its position in geodetic coordinates in each second of a day."
   ]
  },
  {
   "cell_type": "code",
   "execution_count": null,
   "id": "b376b644",
   "metadata": {},
   "outputs": [],
   "source": [
    "# Convert values to integers\n",
    "num_orbits = int(num_orbits.value)\n",
    "num_satellites = int(num_satellites.value)\n",
    "inclination = int(orbit_inclination.value)\n",
    "\n",
    "# Almanac folder creation\n",
    "# \"AlmanacsXXYYZZ\": XX = number of orbital planes, YY = number of satellites per orbital plane, ZZ = inclination of orbital planes\n",
    "if not os.path.exists(f'Almanacs{num_orbits:02}{num_satellites:02}{inclination:02}'):\n",
    "    os.makedirs(f'Almanacs{num_orbits:02}{num_satellites:02}{inclination:02}')\n",
    "\n",
    "# Satellite positon output folder creation\n",
    "# \"SatellitePositionsXXYYZZ\": XX = number of orbital planes, YY = number of satellites per orbital plane, ZZ = inclination of orbital planes\n",
    "if not os.path.exists(f'SatellitePositions{num_orbits:02}{num_satellites:02}{inclination:02}'):\n",
    "    os.makedirs(f'SatellitePositions{num_orbits:02}{num_satellites:02}{inclination:02}')\n",
    "    out_folder_name = f'SatellitePositions{num_orbits:02}{num_satellites:02}{inclination:02}'\n",
    "\n",
    "# Orbit radius definition\n",
    "orbit_radius = 7180 #km\n",
    "\n",
    "# for cycle on orbit number\n",
    "for i_orb in range(1, num_orbits + 1):\n",
    "    # for cycle on satellite number per orbit\n",
    "    for i_sat in range(1, num_satellites + 1):\n",
    "            sat_name_list = create_satellite_txt(i_orb, i_sat)\n",
    "        \n",
    "print(f'Almanacs created successfully!')"
   ]
  },
  {
   "cell_type": "markdown",
   "id": "8f7fb18e",
   "metadata": {},
   "source": [
    "## Matlab Connection\n"
   ]
  },
  {
   "cell_type": "code",
   "execution_count": null,
   "id": "9d884bce",
   "metadata": {},
   "outputs": [],
   "source": [
    "# PATH WIDGET\n",
    "\n",
    "in_path = \"\"\n",
    "out_path = \"\"\n",
    "\n",
    "root = tk.Tk()\n",
    "root.title(\"Paths Selector\")\n",
    "\n",
    "in_path_label = tk.Label(root, text=\"Enter the path of Almanacs input folder:\")\n",
    "in_path_label.pack()\n",
    "\n",
    "in_path_entry = tk.Entry(root, width=50)\n",
    "in_path_entry.pack()\n",
    "\n",
    "out_path_label = tk.Label(root, text=\"Enter the path of the Solution output folder:\")\n",
    "out_path_label.pack()\n",
    "\n",
    "out_path_entry = tk.Entry(root, width=50)\n",
    "out_path_entry.pack()\n",
    "\n",
    "submit_button = tk.Button(root, text=\"Submit\", command=get_paths)\n",
    "submit_button.pack()\n",
    "\n",
    "root.mainloop()"
   ]
  },
  {
   "cell_type": "code",
   "execution_count": null,
   "id": "44093e14",
   "metadata": {},
   "outputs": [],
   "source": [
    "# FOR EXPERIMENTS - DELETE LATER\n",
    "\n",
    "in_path = r'C:\\Users\\emmal\\Documents\\GitHub\\SimuLEO\\Almanacs040470'\n",
    "out_path = r'C:\\Users\\emmal\\Documents\\GitHub\\SimuLEO\\SatellitePositions040470'"
   ]
  },
  {
   "cell_type": "code",
   "execution_count": null,
   "id": "c3b3e96b",
   "metadata": {},
   "outputs": [],
   "source": [
    "# FOR EXPERIMENTS - DELETE LATER\n",
    "\n",
    "print(in_path)\n",
    "print(out_path)"
   ]
  },
  {
   "cell_type": "code",
   "execution_count": null,
   "id": "9a7f5560",
   "metadata": {},
   "outputs": [],
   "source": [
    "octave.feval(r'MATLAB\\SimuLEO_f.m', in_path, out_path, nout=0)"
   ]
  },
  {
   "cell_type": "markdown",
   "id": "c0b9ad95",
   "metadata": {},
   "source": [
    "### Experiments - delete later"
   ]
  },
  {
   "cell_type": "code",
   "execution_count": null,
   "id": "75222232",
   "metadata": {},
   "outputs": [],
   "source": [
    "# Set the path to the Octave executable\n",
    "os.environ['OCTAVE_EXECUTABLE'] = 'C:\\Program Files\\GNU Octave\\Octave-9.1.0\\mingw64\\bin'"
   ]
  },
  {
   "cell_type": "code",
   "execution_count": null,
   "id": "28d1bc39",
   "metadata": {},
   "outputs": [],
   "source": [
    "# Definisci il percorso completo dello script Octave\n",
    "script_path = r'C:\\Users\\emmal\\Documents\\GitHub\\SimuLEO\\MATLAB\\SimuLEO_f.m'\n",
    "\n",
    "# Definisci il percorso delle funzioni MATLAB\n",
    "matlab_functions_path = r'C:\\Users\\emmal\\Documents\\GitHub\\SimuLEO\\MATLAB'\n",
    "\n",
    "# Esegui lo script Octave utilizzando subprocess con il percorso delle funzioni MATLAB\n",
    "subprocess.run(['octave', '--path', matlab_functions_path, '-c', f'SimuLEO_f(in_path, out_path)', script_path])"
   ]
  },
  {
   "cell_type": "code",
   "execution_count": null,
   "id": "86aa70c7",
   "metadata": {},
   "outputs": [],
   "source": [
    "# Definisci il percorso completo dello script Octave\n",
    "script_path = r'C:\\Users\\emmal\\Documents\\GitHub\\SimuLEO\\MATLAB\\SimuLEO.m'\n",
    "\n",
    "# Definisci il percorso delle funzioni MATLAB\n",
    "matlab_functions_path = r'C:\\Users\\emmal\\Documents\\GitHub\\SimuLEO\\MATLAB'\n",
    "\n",
    "# Esegui lo script Octave utilizzando subprocess con il percorso delle funzioni MATLAB\n",
    "subprocess.run(['octave', '--path', matlab_functions_path, script_path])"
   ]
  },
  {
   "cell_type": "code",
   "execution_count": null,
   "id": "b0687166",
   "metadata": {},
   "outputs": [],
   "source": [
    "# to add a folder use:\n",
    "octave.addpath('C:/Users/emmal/Documents/GitHub/SimuLEO/MATLAB')   \n",
    "# to run the .m file :\n",
    "octave.run('SimuLEO.m')"
   ]
  },
  {
   "cell_type": "markdown",
   "id": "35a2cff3",
   "metadata": {},
   "source": [
    "# Plot Ground Tracks"
   ]
  },
  {
   "cell_type": "code",
   "execution_count": null,
   "id": "bb92a959",
   "metadata": {},
   "outputs": [],
   "source": [
    "selected_path = \"\"\n",
    "\n",
    "root = tk.Tk()\n",
    "root.title(\"Path Selector\")\n",
    "\n",
    "path_label = tk.Label(root, text=\"Enter the path of the solution you want to plot:\")\n",
    "path_label.pack()\n",
    "\n",
    "path_entry = tk.Entry(root, width=50)\n",
    "path_entry.pack()\n",
    "\n",
    "submit_button = tk.Button(root, text=\"Submit\", command=get_path)\n",
    "submit_button.pack()\n",
    "\n",
    "root.mainloop()"
   ]
  },
  {
   "cell_type": "code",
   "execution_count": null,
   "id": "93648e3d",
   "metadata": {},
   "outputs": [],
   "source": [
    "folder_path = selected_path\n",
    "\n",
    "sat_names = []\n",
    "\n",
    "for file in os.listdir(folder_path):\n",
    "    if os.path.isfile(os.path.join(folder_path, file)):\n",
    "        file = file.strip('.txt')\n",
    "        sat_names.append(file)\n",
    "\n",
    "#print(sat_names)"
   ]
  },
  {
   "cell_type": "code",
   "execution_count": null,
   "id": "5700c2fe",
   "metadata": {},
   "outputs": [],
   "source": [
    "# Plot selection\n",
    "style = {'description_width': 'initial'}\n",
    "plot_sat = widgets.Dropdown(\n",
    "            options = sat_names,\n",
    "            value = sat_names[0],\n",
    "            description='Select satellite:',\n",
    "            disabled = False,\n",
    "            style = style,\n",
    "            )\n",
    "\n",
    "time_span = widgets.IntSlider(description='Select time span in hours:', min=1, max=24, step=1, style=style)\n",
    "\n",
    "display(plot_sat, time_span)"
   ]
  },
  {
   "cell_type": "code",
   "execution_count": null,
   "id": "2d9606e5",
   "metadata": {},
   "outputs": [],
   "source": [
    "path = selected_path + '/' + plot_sat.value + '.txt'\n",
    "data = pd.read_csv(path, sep='\\t', header=None, index_col=False, names=['latitude', 'longitude', 'height'])\n",
    "time_span_seconds = int(time_span.value) * 3600"
   ]
  },
  {
   "cell_type": "code",
   "execution_count": null,
   "id": "e8be6970",
   "metadata": {},
   "outputs": [],
   "source": [
    "# FOR EXPERIMENTS - DELETE LATER\n",
    "\n",
    "data = pd.read_csv(f'SatellitePositions050530\\LEO0101.txt', sep='\\t', header=None, index_col=False, names=['latitude', 'longitude', 'height'])"
   ]
  },
  {
   "cell_type": "code",
   "execution_count": null,
   "id": "5766bfd5",
   "metadata": {},
   "outputs": [],
   "source": [
    "data"
   ]
  },
  {
   "cell_type": "code",
   "execution_count": null,
   "id": "6041db26",
   "metadata": {},
   "outputs": [],
   "source": [
    "fig = go.Figure(data=go.Scattergeo(\n",
    "    lat = data['latitude'][0:time_span_seconds],\n",
    "    lon = data['longitude'][0:time_span_seconds],\n",
    "    mode = 'lines',\n",
    "    line = dict(width = 2, color = 'red'),\n",
    "))\n",
    "\n",
    "fig.update_layout(\n",
    "    title_text = f'Groundtrack of satellite {plot_sat.value} in {time_span.value} hours',\n",
    "    showlegend = False,\n",
    "    geo = dict(\n",
    "        resolution = 50,\n",
    "        showland = True,\n",
    "        showlakes = True,\n",
    "        landcolor = 'rgb(243, 243, 243)',\n",
    "        countrycolor = 'rgb(204, 204, 204)',\n",
    "        projection_type = \"miller\",\n",
    "        coastlinewidth = 1,\n",
    "        coastlinecolor = 'rgb(204, 204, 204)',\n",
    "        lataxis = dict(\n",
    "            range = [-90, 90],\n",
    "            showgrid = True,\n",
    "            dtick = 10\n",
    "        ),\n",
    "        lonaxis = dict(\n",
    "            range = [-180, 180],\n",
    "            showgrid = True,\n",
    "            dtick = 20\n",
    "        ),\n",
    "    )\n",
    ")\n",
    "\n",
    "fig.show()"
   ]
  },
  {
   "cell_type": "code",
   "execution_count": null,
   "id": "094cb04b",
   "metadata": {},
   "outputs": [],
   "source": [
    "fig = go.Figure(data=go.Scattergeo(\n",
    "    lat = data['latitude'][0:time_span_seconds],\n",
    "    lon = data['longitude'][0:time_span_seconds],\n",
    "    mode = 'lines',\n",
    "    line = dict(width = 2, color = 'red'),\n",
    "))\n",
    "\n",
    "fig.update_layout(\n",
    "    title_text = f'Groundtrack of satellite {plot_sat.value} in {time_span.value} hours',\n",
    "    showlegend = False,\n",
    "    geo = dict(\n",
    "        showland = True,\n",
    "        showcountries = True,\n",
    "        showocean = True,\n",
    "        countrywidth = 0.5,\n",
    "        oceancolor = 'rgb(255, 255, 255)',\n",
    "        countrycolor = 'rgb(204, 204, 204)',\n",
    "        projection_type = \"miller\",\n",
    "        coastlinewidth = 1,\n",
    "        coastlinecolor = 'rgb(204, 204, 204)',\n",
    "        projection = dict(\n",
    "            type = 'orthographic',\n",
    "            rotation = dict(\n",
    "                lon = 45,\n",
    "                lat = 45,\n",
    "                roll = 0\n",
    "            )\n",
    "        ),\n",
    "        lonaxis = dict(\n",
    "            showgrid = True,\n",
    "            gridcolor = 'rgb(102, 102, 102)',\n",
    "            gridwidth = 0.5\n",
    "        ),\n",
    "        lataxis = dict(\n",
    "            showgrid = True,\n",
    "            gridcolor = 'rgb(102, 102, 102)',\n",
    "            gridwidth = 0.5\n",
    "        )\n",
    "    )\n",
    ")\n",
    "\n",
    "fig.show()"
   ]
  },
  {
   "cell_type": "code",
   "execution_count": null,
   "id": "cd58ac07",
   "metadata": {},
   "outputs": [],
   "source": [
    "scl = ['rgb(255,0,0)', 'rgb(255,127,0)', 'rgb(255,255,0)', \\\n",
    "    'rgb(127,255,0)', 'rgb(0,255,0)', 'rgb(0,255,127)', \\\n",
    "    'rgb(0,255,255)', 'rgb(0,127,255)', 'rgb(0,0,255)',\\\n",
    "    'rgb(127,0,255)', 'rgb(255,0,255)', 'rgb(255,0,127)']\n",
    "n_colors = len(scl)\n",
    "\n",
    "fig = go.Figure()\n",
    "\n",
    "for i in range(len(sat_names)):\n",
    "    path = selected_path + '/' + sat_names[i] + '.txt'\n",
    "    data = pd.read_csv(path, sep='\\t', header=None, index_col=False, names=['latitude', 'longitude', 'height'])\n",
    "    fig.add_trace(go.Scattergeo(\n",
    "        lat = data['latitude'][0:2*3600],\n",
    "        lon = data['longitude'][0:2*3600],\n",
    "        mode = 'lines',\n",
    "        name = sat_names[i],\n",
    "        line = dict(width = 2, color = scl[i % n_colors]\n",
    "        )))\n",
    "  \n",
    "fig.update_layout(\n",
    "    title_text = 'Groundtracks of all the satellites of the costellation in 2 hours time span',\n",
    "    showlegend = True,\n",
    "    geo = dict(\n",
    "        showland = True,\n",
    "        showcountries = True,\n",
    "        showocean = True,\n",
    "        countrywidth = 0.5,\n",
    "        oceancolor = 'rgb(255, 255, 255)',\n",
    "        countrycolor = 'rgb(204, 204, 204)',\n",
    "        projection_type = \"miller\",\n",
    "        coastlinewidth = 1,\n",
    "        coastlinecolor = 'rgb(204, 204, 204)',\n",
    "        projection = dict(\n",
    "            type = 'orthographic',\n",
    "            rotation = dict(\n",
    "                lon = 45,\n",
    "                lat = 45,\n",
    "                roll = 0\n",
    "            )\n",
    "        ),\n",
    "        lonaxis = dict(\n",
    "            showgrid = True,\n",
    "            gridcolor = 'rgb(102, 102, 102)',\n",
    "            gridwidth = 0.5\n",
    "        ),\n",
    "        lataxis = dict(\n",
    "            showgrid = True,\n",
    "            gridcolor = 'rgb(102, 102, 102)',\n",
    "            gridwidth = 0.5\n",
    "        )\n",
    "    )\n",
    ")\n",
    "\n",
    "fig.show()"
   ]
  },
  {
   "cell_type": "code",
   "execution_count": null,
   "id": "7f6135c3",
   "metadata": {},
   "outputs": [],
   "source": []
  }
 ],
 "metadata": {
  "kernelspec": {
   "display_name": "Python 3 (ipykernel)",
   "language": "python",
   "name": "python3"
  },
  "language_info": {
   "codemirror_mode": {
    "name": "ipython",
    "version": 3
   },
   "file_extension": ".py",
   "mimetype": "text/x-python",
   "name": "python",
   "nbconvert_exporter": "python",
   "pygments_lexer": "ipython3",
   "version": "3.11.9"
  }
 },
 "nbformat": 4,
 "nbformat_minor": 5
}
