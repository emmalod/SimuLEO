{
 "cells": [
  {
   "cell_type": "markdown",
   "id": "ebc5ac78",
   "metadata": {},
   "source": [
    "# Geoinformatics Project\n",
    "---\n",
    "# LEO satellites orbits simulator\n",
    "###### Angelica Iseni, Emma Lodetti"
   ]
  },
  {
   "cell_type": "markdown",
   "id": "5fe2e1aa",
   "metadata": {},
   "source": [
    "The **goal** of this project is to compute the position of each LEO (Low Earth orbit) satellite in the constellation for every second of the day."
   ]
  },
  {
   "cell_type": "markdown",
   "id": "9c56556d",
   "metadata": {},
   "source": [
    "In this script you will be asked to enter: \n",
    "- The **number of orbital planes** of the costellation\n",
    "- The **number of satellites** per orbital plane\n",
    "- The **inclination** of the orbital planes with respect to the reference equatorial plane\n",
    "\n",
    "This information will be used to create almanacs of the constellation satellites."
   ]
  },
  {
   "cell_type": "markdown",
   "id": "d423df21",
   "metadata": {},
   "source": [
    "### Import libraries"
   ]
  },
  {
   "cell_type": "code",
   "execution_count": 5,
   "id": "3af0c756",
   "metadata": {},
   "outputs": [],
   "source": [
    "# Useful libraries\n",
    "\n",
    "import ipywidgets as widgets\n",
    "from IPython.display import display\n",
    "from IPython.display import FileLink\n",
    "import os\n",
    "import subprocess\n",
    "import pandas as pd\n",
    "import pyproj\n",
    "import plotly.graph_objects as go\n",
    "import tkinter as tk\n",
    "import oct2py\n",
    "from oct2py import octave\n",
    "from oct2py import Oct2Py"
   ]
  },
  {
   "cell_type": "markdown",
   "id": "47cf7b27",
   "metadata": {},
   "source": [
    "### Functions definition"
   ]
  },
  {
   "cell_type": "code",
   "execution_count": 2,
   "id": "6d234bbd",
   "metadata": {},
   "outputs": [],
   "source": [
    "# input parameters function\n",
    "def user_input(var):\n",
    "    \n",
    "    n_orbits = num_orbits.value\n",
    "    n_satellites = num_satellites.value\n",
    "    inclination = orbit_inclination.value\n",
    "    \n",
    "    if n_orbits < 0 or n_satellites < 0 or inclination < 0:\n",
    "        print('Error: The numbers cannot be negative. Please insert valid numbers.')\n",
    "    else:\n",
    "        print(f'You have selected {n_orbits} orbital planes with {n_satellites} satellites each, with an inclination of {inclination} degrees.')\n",
    "\n",
    "name_list = []\n",
    "        \n",
    "# txt creation function\n",
    "def create_satellite_txt(i_orbit, i_satellite):\n",
    "    \n",
    "    # Satellite name creation as \"LEO XXYY\", where XX = orbit number and YY = satellite number\n",
    "    satellite_name = f'LEO{i_orbit:02}{i_satellite:02}'\n",
    "    name_list.append(satellite_name)\n",
    "    \n",
    "    # M0 computation\n",
    "    M0 = 360 / num_satellites * (i_satellite - 1) + 360 / num_satellites * ((i_orbit - 1) / num_orbits)\n",
    "    \n",
    "    # Omega0 computation\n",
    "    Omega0 = (i_orbit - 1) * 180 / num_orbits\n",
    "    \n",
    "    # Almanac content\n",
    "    output_content = f'OrbitRadius {orbit_radius}\\nOrbitInclination {inclination}\\nM0 {M0}\\nOmega0 {Omega0}'\n",
    "    \n",
    "    # txt file path\n",
    "    file_path = f'Almanacs{num_orbits:02}{num_satellites:02}{inclination:02}/{satellite_name}.txt'\n",
    "    \n",
    "    # Write content in txt file\n",
    "    with open(file_path, 'w') as file:\n",
    "        file.write(output_content)\n",
    "        \n",
    "    # Return list of satellite nemes for plot selection\n",
    "    return name_list\n",
    "\n",
    "# Path selector\n",
    "def get_path():\n",
    "    global selected_path\n",
    "    path = path_entry.get()\n",
    "    path = path.replace('\\\\', '/')\n",
    "    path = path.strip('\"')\n",
    "    selected_path = path\n",
    "    print(f\"Selected path: {path}\")\n",
    "    root.destroy() \n",
    "    return path\n"
   ]
  },
  {
   "cell_type": "markdown",
   "id": "92d16e75",
   "metadata": {},
   "source": [
    "### Input parameters\n",
    "Insert number of orbits, number of satellites per orbit and inclination of the orbit."
   ]
  },
  {
   "cell_type": "code",
   "execution_count": null,
   "id": "02c839de",
   "metadata": {},
   "outputs": [],
   "source": [
    "# Widget creation\n",
    "style = {'description_width': 'initial'}\n",
    "num_orbits = widgets.IntText(description='Number of orbital planes:', value=0, style=style)\n",
    "num_satellites = widgets.IntText(description='Number of satellites per orbital plane:', value=0, style=style)\n",
    "orbit_inclination = widgets.FloatSlider(description='Orbit inclination:', min=0, max=90, step=1, style=style)\n",
    "    \n",
    "# Submit button\n",
    "submit_button = widgets.Button(description='Submit')\n",
    "submit_button.on_click(user_input)\n",
    "\n",
    "display(num_orbits, num_satellites, orbit_inclination, submit_button)"
   ]
  },
  {
   "cell_type": "markdown",
   "id": "1cda4f06",
   "metadata": {},
   "source": [
    "### Folders and Almanacs creation as txt files\n",
    "This tool produces two different folders: **AlmanacsXXYYZZ** and **SatellitePositionsXXYYZZ**, where:\n",
    "- **XX** = number of orbital planes\n",
    "- **YY** = number of satellites per orbital plane\n",
    "- **ZZ** = inclination of orbital planes\n",
    "\n",
    "**AlmanacsXXYYZZ** contains a set of txt files, one for each satellite of the constellation. Each txt file contains:\n",
    "- Satellite name: **LEOXXYY**, where XX = orbit number and YY = satellite number\n",
    "- Orbit radius = 7180 km\n",
    "- Orbit inclination\n",
    "- $M_0$ = mean anomaly\n",
    "- $\\Omega_0$ = right ascension of the ascending node\n",
    "\n",
    "**SatellitePositionsXXYYZZ** is an empty folder that will contains a set of txt files computed by MATLAB. Each txt file, named as the corrensponding satellite, will contain its position in geodetic coordinates in each second of a day."
   ]
  },
  {
   "cell_type": "code",
   "execution_count": null,
   "id": "b376b644",
   "metadata": {},
   "outputs": [],
   "source": [
    "# Convert values to integers\n",
    "num_orbits = int(num_orbits.value)\n",
    "num_satellites = int(num_satellites.value)\n",
    "inclination = int(orbit_inclination.value)\n",
    "\n",
    "# Almanac folder creation\n",
    "# \"AlmanacsXXYYZZ\": XX = number of orbital planes, YY = number of satellites per orbital plane, ZZ = inclination of orbital planes\n",
    "if not os.path.exists(f'Almanacs{num_orbits:02}{num_satellites:02}{inclination:02}'):\n",
    "    os.makedirs(f'Almanacs{num_orbits:02}{num_satellites:02}{inclination:02}')\n",
    "\n",
    "# Satellite positon output folder creation\n",
    "# \"SatellitePositionsXXYYZZ\": XX = number of orbital planes, YY = number of satellites per orbital plane, ZZ = inclination of orbital planes\n",
    "if not os.path.exists(f'SatellitePositions{num_orbits:02}{num_satellites:02}{inclination:02}'):\n",
    "    os.makedirs(f'SatellitePositions{num_orbits:02}{num_satellites:02}{inclination:02}')\n",
    "    out_folder_name = f'SatellitePositions{num_orbits:02}{num_satellites:02}{inclination:02}'\n",
    "\n",
    "# Orbit radius definition\n",
    "orbit_radius = 7180 #km\n",
    "\n",
    "# for cycle on orbit number\n",
    "for i_orb in range(1, num_orbits + 1):\n",
    "    # for cycle on satellite number per orbit\n",
    "    for i_sat in range(1, num_satellites + 1):\n",
    "            sat_name_list = create_satellite_txt(i_orb, i_sat)\n",
    "        \n",
    "print(f'Almanacs created successfully!')"
   ]
  },
  {
   "cell_type": "markdown",
   "id": "8f7fb18e",
   "metadata": {},
   "source": [
    "## Trying Matlab Connection\n"
   ]
  },
  {
   "cell_type": "code",
   "execution_count": 9,
   "id": "75222232",
   "metadata": {},
   "outputs": [],
   "source": [
    "# Set the path to the Octave executable\n",
    "os.environ['OCTAVE_EXECUTABLE'] = 'C:\\Program Files\\GNU Octave\\Octave-9.1.0\\mingw64\\bin'\n"
   ]
  },
  {
   "cell_type": "code",
   "execution_count": 11,
   "id": "28d1bc39",
   "metadata": {},
   "outputs": [
    {
     "data": {
      "text/plain": [
       "CompletedProcess(args=['octave', '--path', 'C:\\\\Users\\\\emmal\\\\Documents\\\\GitHub\\\\SimuLEO\\\\MATLAB', 'C:\\\\Users\\\\emmal\\\\Documents\\\\GitHub\\\\SimuLEO\\\\MATLAB\\\\SimuLEO.m'], returncode=0)"
      ]
     },
     "execution_count": 11,
     "metadata": {},
     "output_type": "execute_result"
    }
   ],
   "source": [
    "# Definisci il percorso completo dello script Octave\n",
    "script_path = r'C:\\Users\\emmal\\Documents\\GitHub\\SimuLEO\\MATLAB\\SimuLEO.m'\n",
    "\n",
    "# Definisci il percorso delle funzioni MATLAB\n",
    "matlab_functions_path = r'C:\\Users\\emmal\\Documents\\GitHub\\SimuLEO\\MATLAB'\n",
    "\n",
    "# Esegui lo script Octave utilizzando subprocess con il percorso delle funzioni MATLAB\n",
    "subprocess.run(['octave', '--path', matlab_functions_path, script_path])"
   ]
  },
  {
   "cell_type": "code",
   "execution_count": 8,
   "id": "b0687166",
   "metadata": {},
   "outputs": [
    {
     "ename": "Oct2PyError",
     "evalue": "Octave evaluation error:\nerror: run: function called with too many outputs\nerror: called from:\n    run at line -1, column -1",
     "output_type": "error",
     "traceback": [
      "\u001b[1;31m---------------------------------------------------------------------------\u001b[0m",
      "\u001b[1;31mOct2PyError\u001b[0m                               Traceback (most recent call last)",
      "\u001b[1;32m~\\AppData\\Local\\Temp\\ipykernel_17204\\2270720999.py\u001b[0m in \u001b[0;36m<module>\u001b[1;34m\u001b[0m\n\u001b[0;32m      2\u001b[0m \u001b[0moctave\u001b[0m\u001b[1;33m.\u001b[0m\u001b[0maddpath\u001b[0m\u001b[1;33m(\u001b[0m\u001b[1;34m'C:/Users/emmal/Documents/GitHub/SimuLEO/MATLAB'\u001b[0m\u001b[1;33m)\u001b[0m\u001b[1;33m\u001b[0m\u001b[1;33m\u001b[0m\u001b[0m\n\u001b[0;32m      3\u001b[0m \u001b[1;31m# to run the .m file :\u001b[0m\u001b[1;33m\u001b[0m\u001b[1;33m\u001b[0m\u001b[0m\n\u001b[1;32m----> 4\u001b[1;33m \u001b[0moctave\u001b[0m\u001b[1;33m.\u001b[0m\u001b[0mrun\u001b[0m\u001b[1;33m(\u001b[0m\u001b[1;34m'SimuLEO.m'\u001b[0m\u001b[1;33m)\u001b[0m\u001b[1;33m\u001b[0m\u001b[1;33m\u001b[0m\u001b[0m\n\u001b[0m",
      "\u001b[1;32m~\\anaconda3\\lib\\site-packages\\oct2py\\dynamic.py\u001b[0m in \u001b[0;36m__call__\u001b[1;34m(self, *inputs, **kwargs)\u001b[0m\n\u001b[0;32m    109\u001b[0m         \u001b[0minputs\u001b[0m \u001b[1;33m+=\u001b[0m \u001b[0mtuple\u001b[0m\u001b[1;33m(\u001b[0m\u001b[0mitem\u001b[0m \u001b[1;32mfor\u001b[0m \u001b[0mpair\u001b[0m \u001b[1;32min\u001b[0m \u001b[0mextras\u001b[0m\u001b[1;33m.\u001b[0m\u001b[0mitems\u001b[0m\u001b[1;33m(\u001b[0m\u001b[1;33m)\u001b[0m \u001b[1;32mfor\u001b[0m \u001b[0mitem\u001b[0m \u001b[1;32min\u001b[0m \u001b[0mpair\u001b[0m\u001b[1;33m)\u001b[0m\u001b[1;33m\u001b[0m\u001b[1;33m\u001b[0m\u001b[0m\n\u001b[0;32m    110\u001b[0m \u001b[1;33m\u001b[0m\u001b[0m\n\u001b[1;32m--> 111\u001b[1;33m         \u001b[1;32mreturn\u001b[0m \u001b[0mself\u001b[0m\u001b[1;33m.\u001b[0m\u001b[0m_ref\u001b[0m\u001b[1;33m(\u001b[0m\u001b[1;33m)\u001b[0m\u001b[1;33m.\u001b[0m\u001b[0mfeval\u001b[0m\u001b[1;33m(\u001b[0m\u001b[0mself\u001b[0m\u001b[1;33m.\u001b[0m\u001b[0mname\u001b[0m\u001b[1;33m,\u001b[0m \u001b[1;33m*\u001b[0m\u001b[0minputs\u001b[0m\u001b[1;33m,\u001b[0m \u001b[1;33m**\u001b[0m\u001b[0mkwargs\u001b[0m\u001b[1;33m)\u001b[0m\u001b[1;33m\u001b[0m\u001b[1;33m\u001b[0m\u001b[0m\n\u001b[0m\u001b[0;32m    112\u001b[0m \u001b[1;33m\u001b[0m\u001b[0m\n\u001b[0;32m    113\u001b[0m     \u001b[1;32mdef\u001b[0m \u001b[0m__repr__\u001b[0m\u001b[1;33m(\u001b[0m\u001b[0mself\u001b[0m\u001b[1;33m)\u001b[0m\u001b[1;33m:\u001b[0m\u001b[1;33m\u001b[0m\u001b[1;33m\u001b[0m\u001b[0m\n",
      "\u001b[1;32m~\\anaconda3\\lib\\site-packages\\oct2py\\core.py\u001b[0m in \u001b[0;36mfeval\u001b[1;34m(self, func_path, *func_args, **kwargs)\u001b[0m\n\u001b[0;32m    401\u001b[0m             \u001b[0mstream_handler\u001b[0m \u001b[1;33m=\u001b[0m \u001b[0mself\u001b[0m\u001b[1;33m.\u001b[0m\u001b[0mlogger\u001b[0m\u001b[1;33m.\u001b[0m\u001b[0minfo\u001b[0m \u001b[1;32mif\u001b[0m \u001b[0mverbose\u001b[0m \u001b[1;32melse\u001b[0m \u001b[0mself\u001b[0m\u001b[1;33m.\u001b[0m\u001b[0mlogger\u001b[0m\u001b[1;33m.\u001b[0m\u001b[0mdebug\u001b[0m\u001b[1;33m\u001b[0m\u001b[1;33m\u001b[0m\u001b[0m\n\u001b[0;32m    402\u001b[0m \u001b[1;33m\u001b[0m\u001b[0m\n\u001b[1;32m--> 403\u001b[1;33m         return self._feval(\n\u001b[0m\u001b[0;32m    404\u001b[0m             \u001b[0mfunc_name\u001b[0m\u001b[1;33m,\u001b[0m\u001b[1;33m\u001b[0m\u001b[1;33m\u001b[0m\u001b[0m\n\u001b[0;32m    405\u001b[0m             \u001b[0mfunc_args\u001b[0m\u001b[1;33m,\u001b[0m\u001b[1;33m\u001b[0m\u001b[1;33m\u001b[0m\u001b[0m\n",
      "\u001b[1;32m~\\anaconda3\\lib\\site-packages\\oct2py\\core.py\u001b[0m in \u001b[0;36m_feval\u001b[1;34m(self, func_name, func_args, dname, nout, timeout, stream_handler, store_as, plot_dir)\u001b[0m\n\u001b[0;32m    646\u001b[0m         \u001b[1;32mif\u001b[0m \u001b[0mresp\u001b[0m\u001b[1;33m[\u001b[0m\u001b[1;34m\"err\"\u001b[0m\u001b[1;33m]\u001b[0m\u001b[1;33m:\u001b[0m\u001b[1;33m\u001b[0m\u001b[1;33m\u001b[0m\u001b[0m\n\u001b[0;32m    647\u001b[0m             \u001b[0mmsg\u001b[0m \u001b[1;33m=\u001b[0m \u001b[0mself\u001b[0m\u001b[1;33m.\u001b[0m\u001b[0m_parse_error\u001b[0m\u001b[1;33m(\u001b[0m\u001b[0mresp\u001b[0m\u001b[1;33m[\u001b[0m\u001b[1;34m\"err\"\u001b[0m\u001b[1;33m]\u001b[0m\u001b[1;33m)\u001b[0m\u001b[1;33m\u001b[0m\u001b[1;33m\u001b[0m\u001b[0m\n\u001b[1;32m--> 648\u001b[1;33m             \u001b[1;32mraise\u001b[0m \u001b[0mOct2PyError\u001b[0m\u001b[1;33m(\u001b[0m\u001b[0mmsg\u001b[0m\u001b[1;33m)\u001b[0m\u001b[1;33m\u001b[0m\u001b[1;33m\u001b[0m\u001b[0m\n\u001b[0m\u001b[0;32m    649\u001b[0m \u001b[1;33m\u001b[0m\u001b[0m\n\u001b[0;32m    650\u001b[0m         \u001b[0mresult\u001b[0m \u001b[1;33m=\u001b[0m \u001b[0mresp\u001b[0m\u001b[1;33m[\u001b[0m\u001b[1;34m\"result\"\u001b[0m\u001b[1;33m]\u001b[0m\u001b[1;33m.\u001b[0m\u001b[0mravel\u001b[0m\u001b[1;33m(\u001b[0m\u001b[1;33m)\u001b[0m\u001b[1;33m.\u001b[0m\u001b[0mtolist\u001b[0m\u001b[1;33m(\u001b[0m\u001b[1;33m)\u001b[0m\u001b[1;33m\u001b[0m\u001b[1;33m\u001b[0m\u001b[0m\n",
      "\u001b[1;31mOct2PyError\u001b[0m: Octave evaluation error:\nerror: run: function called with too many outputs\nerror: called from:\n    run at line -1, column -1"
     ]
    }
   ],
   "source": [
    "# to add a folder use:\n",
    "octave.addpath('C:/Users/emmal/Documents/GitHub/SimuLEO/MATLAB')   \n",
    "# to run the .m file :\n",
    "octave.run('SimuLEO.m')"
   ]
  },
  {
   "cell_type": "markdown",
   "id": "35a2cff3",
   "metadata": {},
   "source": [
    "# Plot Ground Tracks"
   ]
  },
  {
   "cell_type": "code",
   "execution_count": null,
   "id": "bb92a959",
   "metadata": {},
   "outputs": [],
   "source": [
    "selected_path = \"\"\n",
    "\n",
    "root = tk.Tk()\n",
    "root.title(\"Path Selector\")\n",
    "\n",
    "path_label = tk.Label(root, text=\"Enter the path of the solution you want to plot:\")\n",
    "path_label.pack()\n",
    "\n",
    "path_entry = tk.Entry(root, width=50)\n",
    "path_entry.pack()\n",
    "\n",
    "submit_button = tk.Button(root, text=\"Submit\", command=get_path)\n",
    "submit_button.pack()\n",
    "\n",
    "root.mainloop()"
   ]
  },
  {
   "cell_type": "code",
   "execution_count": null,
   "id": "93648e3d",
   "metadata": {},
   "outputs": [],
   "source": [
    "folder_path = selected_path\n",
    "\n",
    "sat_names = []\n",
    "\n",
    "for file in os.listdir(folder_path):\n",
    "    if os.path.isfile(os.path.join(folder_path, file)):\n",
    "        file = file.strip('.txt')\n",
    "        sat_names.append(file)\n",
    "\n",
    "#print(sat_names)"
   ]
  },
  {
   "cell_type": "code",
   "execution_count": null,
   "id": "5700c2fe",
   "metadata": {},
   "outputs": [],
   "source": [
    "# Plot selection\n",
    "style = {'description_width': 'initial'}\n",
    "plot_sat = widgets.Dropdown(\n",
    "            options = sat_names,\n",
    "            value = sat_names[0],\n",
    "            description='Select satellite:',\n",
    "            disabled = False,\n",
    "            style = style,\n",
    "            )\n",
    "\n",
    "time_span = widgets.FloatSlider(description='Select time span in hours:', min=1, max=24, step=1, style=style)\n",
    "\n",
    "display(plot_sat, time_span)"
   ]
  },
  {
   "cell_type": "code",
   "execution_count": null,
   "id": "2d9606e5",
   "metadata": {},
   "outputs": [],
   "source": [
    "path = selected_path + '/' + plot_sat.value + '.txt'\n",
    "data = pd.read_csv(path, sep='\\t', header=None, index_col=False, names=['latitude', 'longitude', 'height'])\n",
    "time_span_seconds = int(time_span.value) * 3600"
   ]
  },
  {
   "cell_type": "code",
   "execution_count": null,
   "id": "e8be6970",
   "metadata": {},
   "outputs": [],
   "source": [
    "# FOR EXPERIMENTS - DELETE LATER\n",
    "\n",
    "data = pd.read_csv(f'SatellitePositions050530\\LEO0101.txt', sep='\\t', header=None, index_col=False, names=['latitude', 'longitude', 'height'])"
   ]
  },
  {
   "cell_type": "code",
   "execution_count": null,
   "id": "5766bfd5",
   "metadata": {},
   "outputs": [],
   "source": [
    "data"
   ]
  },
  {
   "cell_type": "code",
   "execution_count": null,
   "id": "6041db26",
   "metadata": {},
   "outputs": [],
   "source": [
    "fig = go.Figure(data=go.Scattergeo(\n",
    "    lat = data['latitude'][0:time_span_seconds],\n",
    "    lon = data['longitude'][0:time_span_seconds],\n",
    "    mode = 'lines',\n",
    "    line = dict(width = 2, color = 'red'),\n",
    "))\n",
    "\n",
    "fig.update_layout(\n",
    "    title_text = f'Groundtrack of satellite {plot_sat.value} in {time_span.value} hours',\n",
    "    showlegend = False,\n",
    "    geo = dict(\n",
    "        resolution = 50,\n",
    "        showland = True,\n",
    "        showlakes = True,\n",
    "        landcolor = 'rgb(243, 243, 243)',\n",
    "        countrycolor = 'rgb(204, 204, 204)',\n",
    "        projection_type = \"miller\",\n",
    "        coastlinewidth = 1,\n",
    "        coastlinecolor = 'rgb(204, 204, 204)',\n",
    "        lataxis = dict(\n",
    "            range = [-90, 90],\n",
    "            showgrid = True,\n",
    "            dtick = 10\n",
    "        ),\n",
    "        lonaxis = dict(\n",
    "            range = [-180, 180],\n",
    "            showgrid = True,\n",
    "            dtick = 20\n",
    "        ),\n",
    "    )\n",
    ")\n",
    "\n",
    "fig.show()"
   ]
  },
  {
   "cell_type": "code",
   "execution_count": null,
   "id": "094cb04b",
   "metadata": {},
   "outputs": [],
   "source": [
    "fig = go.Figure(data=go.Scattergeo(\n",
    "    lat = data['latitude'][0:time_span_seconds],\n",
    "    lon = data['longitude'][0:time_span_seconds],\n",
    "    mode = 'lines',\n",
    "    line = dict(width = 2, color = 'red'),\n",
    "))\n",
    "\n",
    "fig.update_layout(\n",
    "    title_text = f'Groundtrack of satellite {plot_sat.value} in {time_span.value} hours',\n",
    "    showlegend = False,\n",
    "    geo = dict(\n",
    "        showland = True,\n",
    "        showcountries = True,\n",
    "        showocean = True,\n",
    "        countrywidth = 0.5,\n",
    "        oceancolor = 'rgb(255, 255, 255)',\n",
    "        countrycolor = 'rgb(204, 204, 204)',\n",
    "        projection_type = \"miller\",\n",
    "        coastlinewidth = 1,\n",
    "        coastlinecolor = 'rgb(204, 204, 204)',\n",
    "        projection = dict(\n",
    "            type = 'orthographic',\n",
    "            rotation = dict(\n",
    "                lon = -100,\n",
    "                lat = 40,\n",
    "                roll = 0\n",
    "            )\n",
    "        ),\n",
    "        lonaxis = dict(\n",
    "            showgrid = True,\n",
    "            gridcolor = 'rgb(102, 102, 102)',\n",
    "            gridwidth = 0.5\n",
    "        ),\n",
    "        lataxis = dict(\n",
    "            showgrid = True,\n",
    "            gridcolor = 'rgb(102, 102, 102)',\n",
    "            gridwidth = 0.5\n",
    "        )\n",
    "    )\n",
    ")\n",
    "\n",
    "fig.show()"
   ]
  },
  {
   "cell_type": "code",
   "execution_count": null,
   "id": "cd58ac07",
   "metadata": {},
   "outputs": [],
   "source": [
    "scl = ['rgb(255,0,0)', 'rgb(255,127,0)', 'rgb(255,255,0)', \\\n",
    "    'rgb(127,255,0)', 'rgb(0,255,0)', 'rgb(0,255,127)', \\\n",
    "    'rgb(0,255,255)', 'rgb(0,127,255)', 'rgb(0,0,255)',\\\n",
    "    'rgb(127,0,255)', 'rgb(255,0,255)', 'rgb(255,0,127)']\n",
    "n_colors = len(scl)\n",
    "\n",
    "fig = go.Figure()\n",
    "\n",
    "for i in range(len(sat_names)):\n",
    "    path = selected_path + '/' + sat_names[i] + '.txt'\n",
    "    data = pd.read_csv(path, sep=' ', header=None, names=['latitude', 'longitude', 'height'])\n",
    "    fig.add_trace(go.Scattergeo(\n",
    "        lat = data['latitude'][0:2*3600],\n",
    "        lon = data['longitude'][0:2*3600],\n",
    "        mode = 'lines',\n",
    "        name = sat_names[i],\n",
    "        line = dict(width = 2, color = scl[i % n_colors]\n",
    "        )))\n",
    "  \n",
    "fig.update_layout(\n",
    "    title_text = 'Groundtracks of all the satellites of the costellation in 2 hours time span',\n",
    "    showlegend = True,\n",
    "    geo = dict(\n",
    "        showland = True,\n",
    "        showcountries = True,\n",
    "        showocean = True,\n",
    "        countrywidth = 0.5,\n",
    "        oceancolor = 'rgb(255, 255, 255)',\n",
    "        countrycolor = 'rgb(204, 204, 204)',\n",
    "        projection_type = \"miller\",\n",
    "        coastlinewidth = 1,\n",
    "        coastlinecolor = 'rgb(204, 204, 204)',\n",
    "        projection = dict(\n",
    "            type = 'orthographic',\n",
    "            rotation = dict(\n",
    "                lon = -100,\n",
    "                lat = 40,\n",
    "                roll = 0\n",
    "            )\n",
    "        ),\n",
    "        lonaxis = dict(\n",
    "            showgrid = True,\n",
    "            gridcolor = 'rgb(102, 102, 102)',\n",
    "            gridwidth = 0.5\n",
    "        ),\n",
    "        lataxis = dict(\n",
    "            showgrid = True,\n",
    "            gridcolor = 'rgb(102, 102, 102)',\n",
    "            gridwidth = 0.5\n",
    "        )\n",
    "    )\n",
    ")\n",
    "\n",
    "fig.show()"
   ]
  }
 ],
 "metadata": {
  "kernelspec": {
   "display_name": "Python 3 (ipykernel)",
   "language": "python",
   "name": "python3"
  },
  "language_info": {
   "codemirror_mode": {
    "name": "ipython",
    "version": 3
   },
   "file_extension": ".py",
   "mimetype": "text/x-python",
   "name": "python",
   "nbconvert_exporter": "python",
   "pygments_lexer": "ipython3",
   "version": "3.9.13"
  }
 },
 "nbformat": 4,
 "nbformat_minor": 5
}
