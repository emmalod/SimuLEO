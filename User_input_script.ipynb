{
 "cells": [
  {
   "cell_type": "markdown",
   "id": "ebc5ac78",
   "metadata": {},
   "source": [
    "# Geoinformatics Project\n",
    "---\n",
    "# LEO satellites orbits simulator\n",
    "###### Angelica Iseni, Emma Lodetti"
   ]
  },
  {
   "cell_type": "markdown",
   "id": "5fe2e1aa",
   "metadata": {},
   "source": [
    "The **goal** of this project is to compute the position of each LEO (Low Earth orbit) satellite in the constellation for every second of the day."
   ]
  },
  {
   "cell_type": "markdown",
   "id": "9c56556d",
   "metadata": {},
   "source": [
    "In this script you will be asked to enter: \n",
    "- The **number of orbital planes** of the costellation\n",
    "- The **number of satellites** per orbital plane\n",
    "- The **inclination** of the orbital planes with respect to the reference equatorial plane\n",
    "\n",
    "This information will be used to create almanacs of the constellation satellites."
   ]
  },
  {
   "cell_type": "code",
   "execution_count": 1,
   "id": "3af0c756",
   "metadata": {},
   "outputs": [],
   "source": [
    "# Import libraries\n",
    "import ipywidgets as widgets\n",
    "from IPython.display import display\n",
    "from IPython.display import FileLink\n",
    "import os\n",
    "\n",
    "# Useful for defining quantities\n",
    "from astropy import units as u\n",
    "\n",
    "# Earth focused modules\n",
    "from poliastro.earth import EarthSatellite\n",
    "from poliastro.earth.plotting import GroundtrackPlotter\n",
    "from poliastro.examples import iss\n",
    "from poliastro.util import time_range\n",
    "\n",
    "import pandas as pd\n",
    "import matplotlib.pyplot as plt\n",
    "from mpl_toolkits.basemap import Basemap\n",
    "import numpy as np\n",
    "import math as mt"
   ]
  },
  {
   "cell_type": "markdown",
   "id": "47cf7b27",
   "metadata": {},
   "source": [
    "### Function definition"
   ]
  },
  {
   "cell_type": "code",
   "execution_count": 8,
   "id": "6d234bbd",
   "metadata": {},
   "outputs": [],
   "source": [
    "# input parameters function\n",
    "def user_input(var):\n",
    "    \n",
    "    n_orbits = num_orbits.value\n",
    "    n_satellites = num_satellites.value\n",
    "    inclination = orbit_inclination.value\n",
    "    \n",
    "    if n_orbits < 0 or n_satellites < 0 or inclination < 0:\n",
    "        print('Error: The numbers cannot be negative. Please insert valid numbers.')\n",
    "    else:\n",
    "        print(f'You have selected {n_orbits} orbital planes with {n_satellites} satellites each, with an inclination of {inclination} degrees.')\n",
    "\n",
    "# txt creation function\n",
    "def create_satellite_txt(i_orbit, i_satellite):\n",
    "    \n",
    "    # Satellite name creation as \"LEO XXYY\", where XX = orbit number and YY = satellite number\n",
    "    satellite_name = f'LEO{i_orbit:02}{i_satellite:02}'\n",
    "    \n",
    "    # M0 computation\n",
    "    M0 = 360 / num_satellites * (i_satellite - 1) + 360 / num_satellites * ((i_orbit - 1) / num_orbits)\n",
    "    \n",
    "    # Omega0 computation\n",
    "    Omega0 = (i_orbit - 1) * 180 / num_orbits\n",
    "    \n",
    "    # Almanac content\n",
    "    output_content = f'SatelliteName {satellite_name}\\nOrbitRadius {orbit_radius}\\nOrbitInclination {inclination}\\nM0 {M0}\\nOmega0 {Omega0}'\n",
    "    \n",
    "    # txt file path\n",
    "    file_path = f'Almanacs{num_orbits:02}{num_satellites:02}{inclination:02}/{satellite_name}.txt'\n",
    "    \n",
    "    # Write content in txt file\n",
    "    with open(file_path, 'w') as file:\n",
    "        file.write(output_content)\n"
   ]
  },
  {
   "cell_type": "markdown",
   "id": "92d16e75",
   "metadata": {},
   "source": [
    "### Input parameters\n",
    "Insert number of orbits, number of satellites per orbit and inclination of the orbit."
   ]
  },
  {
   "cell_type": "code",
   "execution_count": 9,
   "id": "02c839de",
   "metadata": {},
   "outputs": [
    {
     "data": {
      "application/vnd.jupyter.widget-view+json": {
       "model_id": "4b5351ad64494a9ba3e441e091fa8d58",
       "version_major": 2,
       "version_minor": 0
      },
      "text/plain": [
       "IntText(value=0, description='Number of orbits:', style=DescriptionStyle(description_width='initial'))"
      ]
     },
     "metadata": {},
     "output_type": "display_data"
    },
    {
     "data": {
      "application/vnd.jupyter.widget-view+json": {
       "model_id": "aaec71ae9aa54ae38cedc6572eec9871",
       "version_major": 2,
       "version_minor": 0
      },
      "text/plain": [
       "IntText(value=0, description='Number of satellites per orbit:', style=DescriptionStyle(description_width='init…"
      ]
     },
     "metadata": {},
     "output_type": "display_data"
    },
    {
     "data": {
      "application/vnd.jupyter.widget-view+json": {
       "model_id": "49f6718a01a64097b34d5beffa04b48a",
       "version_major": 2,
       "version_minor": 0
      },
      "text/plain": [
       "FloatSlider(value=0.0, description='Orbit inclination:', max=90.0, step=1.0, style=SliderStyle(description_wid…"
      ]
     },
     "metadata": {},
     "output_type": "display_data"
    },
    {
     "data": {
      "application/vnd.jupyter.widget-view+json": {
       "model_id": "feba5edf68fc4db4bfef37831388495d",
       "version_major": 2,
       "version_minor": 0
      },
      "text/plain": [
       "Button(description='Submit', style=ButtonStyle())"
      ]
     },
     "metadata": {},
     "output_type": "display_data"
    },
    {
     "name": "stdout",
     "output_type": "stream",
     "text": [
      "You have selected 5 orbital planes with 5 satellites each, with an inclination of 51.0 degrees.\n"
     ]
    }
   ],
   "source": [
    "# Widget creation\n",
    "style = {'description_width': 'initial'}\n",
    "num_orbits = widgets.IntText(description='Number of orbits:', value=0, style=style)\n",
    "num_satellites = widgets.IntText(description='Number of satellites per orbit:', value=0, style=style)\n",
    "orbit_inclination = widgets.FloatSlider(description='Orbit inclination:', min=0, max=90, step=1, style=style)\n",
    "    \n",
    "# Submit button\n",
    "submit_button = widgets.Button(description='Submit')\n",
    "submit_button.on_click(user_input)\n",
    "\n",
    "display(num_orbits, num_satellites, orbit_inclination, submit_button)"
   ]
  },
  {
   "cell_type": "markdown",
   "id": "1cda4f06",
   "metadata": {},
   "source": [
    "### Folders and Almanacs creation as txt files"
   ]
  },
  {
   "cell_type": "code",
   "execution_count": 10,
   "id": "b376b644",
   "metadata": {},
   "outputs": [
    {
     "name": "stdout",
     "output_type": "stream",
     "text": [
      "Almanacs created successfully!\n"
     ]
    }
   ],
   "source": [
    "# Convert values to integers\n",
    "num_orbits = int(num_orbits.value)\n",
    "num_satellites = int(num_satellites.value)\n",
    "inclination = int(orbit_inclination.value)\n",
    "\n",
    "# Almanac folder creation\n",
    "# \"AlmanacsXXYYZZ\": XX = number of orbital planes, YY = number of satellites per orbital plane, ZZ = inclination of orbital planes\n",
    "if not os.path.exists(f'Almanacs{num_orbits:02}{num_satellites:02}{inclination:02}'):\n",
    "    os.makedirs(f'Almanacs{num_orbits:02}{num_satellites:02}{inclination:02}')\n",
    "\n",
    "# Satellite positon output folder creation\n",
    "# \"SatellitePositionsXXYYZZ\": XX = number of orbital planes, YY = number of satellites per orbital plane, ZZ = inclination of orbital planes\n",
    "if not os.path.exists(f'SatellitePositions{num_orbits:02}{num_satellites:02}{inclination:02}'):\n",
    "    os.makedirs(f'SatellitePositions{num_orbits:02}{num_satellites:02}{inclination:02}')\n",
    "\n",
    "# Orbital radius definition\n",
    "orbit_radius = 8500\n",
    "\n",
    "# for cycle on orbit number\n",
    "for i_orb in range(1, num_orbits + 1):\n",
    "    # for cycle on satellite number per orbit\n",
    "    for i_sat in range(1, num_satellites + 1):\n",
    "        create_satellite_txt(i_orb, i_sat)\n",
    "        \n",
    "print(f'Almanacs created successfully!')"
   ]
  },
  {
   "cell_type": "markdown",
   "id": "35a2cff3",
   "metadata": {},
   "source": [
    "### Plot Ground Tracks"
   ]
  },
  {
   "cell_type": "code",
   "execution_count": null,
   "id": "ce4a3770",
   "metadata": {},
   "outputs": [],
   "source": [
    "# Import and plot coordinates from Output folder\n",
    "\n",
    "#for file in ['PositionLEO0101.txt', 'PositionLEO0102.txt', 'PositionLEO0103.txt', ...]:\n",
    "# Load the data from the file\n",
    "data = pd.read_csv(f'SatellitePositions040444/PositionLEO0103.txt', sep=' ', header=None, names=['latitude', 'longitude', 'height'])\n",
    "\n",
    "# Create a Basemap instance\n",
    "m = Basemap(projection='mill', llcrnrlat=-90, urcrnrlat=90, llcrnrlon=-180, urcrnrlon=180, resolution='c')\n",
    "m.drawcoastlines()\n",
    "m.drawcountries()\n",
    "m.drawmeridians(np.arange(-180, 180, 30))\n",
    "m.drawparallels(np.arange(-90, 90, 30))\n",
    "\n",
    "# Plot the ground track\n",
    "x, y = m(data['longitude'], data['latitude'])\n",
    "m.plot(x, y, 'r-', linewidth=1)\n",
    "\n",
    "# Add a title and show the plot\n",
    "plt.title(f'Ground Track')\n",
    "plt.show()"
   ]
  },
  {
   "cell_type": "code",
   "execution_count": null,
   "id": "ce6a999f",
   "metadata": {},
   "outputs": [],
   "source": [
    "data['longitude']*180/mt.pi"
   ]
  },
  {
   "cell_type": "code",
   "execution_count": null,
   "id": "53dad4e6",
   "metadata": {},
   "outputs": [],
   "source": [
    "# Load background image\n",
    "#background_image_path = r'D:\\Satellite Code\\earth.jpg'\n",
    "#background_img = plt.imread(background_image_path)\n",
    "\n",
    "# Create the plot\n",
    "plt.figure(figsize=(15.2, 8.2))\n",
    "#plt.imshow(background_img, extent=[-180, 180, -90, 90])\n",
    "\n",
    "# Create a Basemap instance\n",
    "m = Basemap(projection='mill', llcrnrlat=-90, urcrnrlat=90, llcrnrlon=-180, urcrnrlon=180, resolution='c')\n",
    "m.drawcoastlines()\n",
    "m.drawcountries()\n",
    "m.drawmeridians(np.arange(-180, 180, 30))\n",
    "m.drawparallels(np.arange(-90, 90, 30))\n",
    "\n",
    "# Plot the ground track\n",
    "plt.scatter(data['longitude']*180/mt.pi, data['latitude']*180/mt.pi, color='red', marker='o', s=4)\n",
    "plt.xlabel(\"Longitude (degrees)\")\n",
    "plt.ylabel(\"Latitude (degrees)\")\n",
    "#plt.title(\"BEESAT 9 Ground Track \")\n",
    "\n",
    "# Show the plot\n",
    "#plt.legend()\n",
    "plt.grid(True, color='w', linestyle=\":\", alpha=0.4)\n",
    "plt.show()"
   ]
  },
  {
   "cell_type": "code",
   "execution_count": null,
   "id": "4ebdd9c3",
   "metadata": {},
   "outputs": [],
   "source": [
    "import pandas as pd\n",
    "import geopandas as gpd\n",
    "import contextily as cx\n",
    "import matplotlib.pyplot as plt\n",
    "\n",
    "# Read data into a GeoDataFrame\n",
    "# Assuming your dataframe is named 'data' with columns 'latitude' and 'longitude'\n",
    "gdf = gpd.GeoDataFrame(data, geometry=gpd.points_from_xy(data.longitude, data.latitude))\n",
    "\n",
    "# Plot the basemap\n",
    "ax = gdf.to_crs('EPSG:3857').plot(figsize=(10, 10))\n",
    "cx.add_basemap(ax, crs=gdf.crs)\n",
    "\n",
    "# Plot the satellite trajectory\n",
    "gdf.plot(ax=ax, color='red', markersize=10)\n",
    "\n",
    "plt.title('Satellite Trajectory Over Time')\n",
    "plt.show()"
   ]
  },
  {
   "cell_type": "markdown",
   "id": "e65d460c",
   "metadata": {},
   "source": [
    "### Codici di prova"
   ]
  },
  {
   "cell_type": "code",
   "execution_count": null,
   "id": "143cb0e5",
   "metadata": {},
   "outputs": [],
   "source": [
    "# prova per far scrivere al codice i vari satelliti ma non va, riproverò\n",
    "\n",
    "print(f'Orbits has radius = {orbit_radius} km and inclination = {inclination} degrees.')\n",
    "# for cycle on orbit number\n",
    "for i_orb in range(1, num_orbits + 1):\n",
    "    # for cycle on satellite number per orbit\n",
    "    for i_sat in range(1, num_satellites + 1):\n",
    "        create_satellite_txt(i_orb, i_sat)\n",
    "        print(f'Satellite {satellite_name} on orbital plane {i_orb}: M0 = {M0} degrees.')\n",
    "    print(f'Orbital plane {i_orb}: Omega0 = {Omega0} degrees.')"
   ]
  },
  {
   "cell_type": "code",
   "execution_count": null,
   "id": "6037aaa6",
   "metadata": {},
   "outputs": [],
   "source": [
    "# Build spacecraft instance\n",
    "iss_spacecraft = EarthSatellite(iss, None)\n",
    "t_span = time_range(\n",
    "    iss.epoch - 1.5 * u.h, periods=150, end=iss.epoch + 1.5 * u.h\n",
    ")"
   ]
  },
  {
   "cell_type": "code",
   "execution_count": null,
   "id": "e05158a7",
   "metadata": {},
   "outputs": [],
   "source": [
    "print(iss)"
   ]
  },
  {
   "cell_type": "code",
   "execution_count": null,
   "id": "eed45f43",
   "metadata": {},
   "outputs": [],
   "source": [
    "num_orbits = int(num_orbits.value)\n",
    "num_satellites = int(num_satellites.value)\n",
    "inclination = int(orbit_inclination.value)"
   ]
  }
 ],
 "metadata": {
  "kernelspec": {
   "display_name": "Python 3 (ipykernel)",
   "language": "python",
   "name": "python3"
  },
  "language_info": {
   "codemirror_mode": {
    "name": "ipython",
    "version": 3
   },
   "file_extension": ".py",
   "mimetype": "text/x-python",
   "name": "python",
   "nbconvert_exporter": "python",
   "pygments_lexer": "ipython3",
   "version": "3.9.13"
  }
 },
 "nbformat": 4,
 "nbformat_minor": 5
}
