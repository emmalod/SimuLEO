{
 "cells": [
  {
   "cell_type": "markdown",
   "id": "ebc5ac78",
   "metadata": {},
   "source": [
    "# Geoinformatics Project\n",
    "---\n",
    "# LEO satellites orbits simulator\n",
    "###### Angelica Iseni, Emma Lodetti"
   ]
  },
  {
   "cell_type": "markdown",
   "id": "5fe2e1aa",
   "metadata": {},
   "source": [
    "The **goal** of this project is to compute the position of each LEO (Low Earth orbit) satellite in the constellation for every second of the day."
   ]
  },
  {
   "cell_type": "markdown",
   "id": "9c56556d",
   "metadata": {},
   "source": [
    "In this script you will be asked to enter: \n",
    "- The **number of orbital planes** of the costellation\n",
    "- The **number of satellites** per orbital plane\n",
    "- The **inclination** of the orbital planes with respect to the reference equatorial plane\n",
    "\n",
    "This information will be used to create almanacs of the constellation satellites."
   ]
  },
  {
   "cell_type": "code",
   "execution_count": null,
   "id": "3af0c756",
   "metadata": {},
   "outputs": [],
   "source": [
    "# Import libraries\n",
    "import ipywidgets as widgets\n",
    "from IPython.display import display\n",
    "from IPython.display import FileLink\n",
    "import os"
   ]
  },
  {
   "cell_type": "markdown",
   "id": "ae66a9da",
   "metadata": {},
   "source": [
    "### Fu"
   ]
  },
  {
   "cell_type": "code",
   "execution_count": null,
   "id": "9a5e1bd5",
   "metadata": {},
   "outputs": [],
   "source": [
    "# input parameters function\n",
    "def user_input(var):\n",
    "    n_orbits = num_orbits.value\n",
    "    n_satellites = num_satellites.value\n",
    "    inclination = orbit_inclination.value\n",
    "    if n_orbits < 0 or n_satellites < 0 or inclination < 0:\n",
    "        print('Error: The numbers cannot be negative. Please insert valid numbers.')\n",
    "    else:\n",
    "        print(f'You have selected {n_orbits} orbital planes with {n_satellites} satellites each, with an inclination of {inclination} degrees.')\n",
    "\n",
    "# txt creation function\n",
    "def create_satellite_txt(i_orbit, i_satellite):\n",
    "    \n",
    "    # Satellite name creation as \"LEO XXYY\", where XX = orbit number and YY = satellite number\n",
    "    satellite_name = f'LEO{i_orbit:02}{i_satellite:02}'\n",
    "    \n",
    "    # M0 computation\n",
    "    M0 = 360 / num_satellites * (i_satellite - 1) + 360 / num_satellites * ((i_orbit - 1) / num_orbits)\n",
    "    \n",
    "    # Omega0 computation\n",
    "    Omega0 = (i_orbit - 1) * 180 / num_orbits\n",
    "    \n",
    "    # Almanac content\n",
    "    output_content = f'Satellite Name: {satellite_name}\\nOrbit radius: {orbit_radius} km\\nOrbit inclination: {inclination} degrees\\nM0: {M0} degrees\\nOmega0: {Omega0} degrees'\n",
    "    \n",
    "    # txt file path\n",
    "    file_path = f'Almanacs{num_orbits:02}{num_satellites:02}{inclination:02}/{satellite_name}.txt'\n",
    "    \n",
    "    # Write content in txt file\n",
    "    with open(file_path, 'w') as file:\n",
    "        file.write(output_content)\n"
   ]
  },
  {
   "cell_type": "markdown",
   "id": "92d16e75",
   "metadata": {},
   "source": [
    "### Input parameters\n",
    "Insert number of orbits, number of satellites per orbit and inclination of the orbit."
   ]
  },
  {
   "cell_type": "code",
   "execution_count": null,
   "id": "02c839de",
   "metadata": {},
   "outputs": [],
   "source": [
    "# Widget creation\n",
    "num_orbits = widgets.IntText(description='Number of orbits:', value=0)\n",
    "num_satellites = widgets.IntText(description='Number of satellites per orbit:', value=0)\n",
    "orbit_inclination = widgets.FloatSlider(description='Orbit inclination:', min=0, max=90, step=1)\n",
    "    \n",
    "# Submit button\n",
    "submit_button = widgets.Button(description='Submit')\n",
    "submit_button.on_click(user_input)\n",
    "\n",
    "display(num_orbits, num_satellites, orbit_inclination, submit_button)"
   ]
  },
  {
   "cell_type": "code",
   "execution_count": null,
   "id": "8aad64da",
   "metadata": {},
   "outputs": [],
   "source": [
    "num_orbits = int(num_orbits.value)\n",
    "num_satellites = int(num_satellites.value)\n",
    "inclination = int(orbit_inclination.value)\n",
    "\n",
    "# questo vorrei integrarlo meglio nel codice sopra ma vedremo"
   ]
  },
  {
   "cell_type": "markdown",
   "id": "1cda4f06",
   "metadata": {},
   "source": [
    "### Almanacs creation as txt files"
   ]
  },
  {
   "cell_type": "code",
   "execution_count": null,
   "id": "b376b644",
   "metadata": {},
   "outputs": [],
   "source": [
    "# Almanac folder creation\n",
    "# \"AlmanacsXXYYZZ\": XX = number of orbital planes, YY = number of satellites per orbital plane, ZZ = inclination of orbital planes\n",
    "if not os.path.exists(f'Almanacs{num_orbits:02}{num_satellites:02}{inclination:02}'):\n",
    "    os.makedirs(f'Almanacs{num_orbits:02}{num_satellites:02}{inclination:02}')    \n",
    "\n",
    "# Orbital radius definition\n",
    "orbit_radius = 8500\n",
    "\n",
    "# for cycle on orbit number\n",
    "for i_orb in range(1, num_orbits + 1):\n",
    "    # for cycle on satellite number per orbit\n",
    "    for i_sat in range(1, num_satellites + 1):\n",
    "        create_satellite_txt(i_orb, i_sat)\n",
    "        \n",
    "print(f'Almanacs created successfully!')"
   ]
  },
  {
   "cell_type": "code",
   "execution_count": null,
   "id": "143cb0e5",
   "metadata": {},
   "outputs": [],
   "source": [
    "# prova per far scrivere al codice i vari satelliti ma non va, riproverò\n",
    "\n",
    "print(f'Orbits has radius = {orbit_radius} km and inclination = {inclination} degrees.')\n",
    "# for cycle on orbit number\n",
    "for i_orb in range(1, num_orbits + 1):\n",
    "    # for cycle on satellite number per orbit\n",
    "    for i_sat in range(1, num_satellites + 1):\n",
    "        create_satellite_txt(i_orb, i_sat)\n",
    "        print(f'Satellite {satellite_name} on orbital plane {i_orb}: M0 = {M0} degrees.')\n",
    "    print(f'Orbital plane {i_orb}: Omega0 = {Omega0} degrees.')"
   ]
  }
 ],
 "metadata": {
  "kernelspec": {
   "display_name": "Python 3 (ipykernel)",
   "language": "python",
   "name": "python3"
  },
  "language_info": {
   "codemirror_mode": {
    "name": "ipython",
    "version": 3
   },
   "file_extension": ".py",
   "mimetype": "text/x-python",
   "name": "python",
   "nbconvert_exporter": "python",
   "pygments_lexer": "ipython3",
   "version": "3.9.13"
  }
 },
 "nbformat": 4,
 "nbformat_minor": 5
}
