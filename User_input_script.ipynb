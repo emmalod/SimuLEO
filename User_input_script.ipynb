{
 "cells": [
  {
   "cell_type": "markdown",
   "id": "ebc5ac78",
   "metadata": {},
   "source": [
    "# Geoinformatics Project\n",
    "---\n",
    "# LEO satellites orbits estimation\n",
    "###### Angelica Iseni, Emma Lodetti"
   ]
  },
  {
   "cell_type": "markdown",
   "id": "5fe2e1aa",
   "metadata": {},
   "source": [
    "The **goal** of this project is to compute the position of each LEO (Low Earth orbit) satellite in the constellation for every second of the day."
   ]
  },
  {
   "cell_type": "markdown",
   "id": "9c56556d",
   "metadata": {},
   "source": [
    "In this script you will be asked to enter: \n",
    "- The **number of orbital planes** of the costellation\n",
    "- The **number of satellites** per orbital plane\n",
    "- The **inclination** of the orbital planes with respect to the reference equatorial plane\n",
    "\n",
    "This information will be used to create almanacs of the constellation satellites."
   ]
  },
  {
   "cell_type": "code",
   "execution_count": 1,
   "id": "3af0c756",
   "metadata": {},
   "outputs": [],
   "source": [
    "# Import libraries\n",
    "import ipywidgets as widgets\n",
    "from IPython.display import display\n",
    "from IPython.display import FileLink\n",
    "import os"
   ]
  },
  {
   "cell_type": "markdown",
   "id": "92d16e75",
   "metadata": {},
   "source": [
    "### Input parameters\n",
    "Insert number of orbits, number of satellites per orbit and inclination of the orbit."
   ]
  },
  {
   "cell_type": "code",
   "execution_count": 2,
   "id": "02c839de",
   "metadata": {},
   "outputs": [
    {
     "data": {
      "application/vnd.jupyter.widget-view+json": {
       "model_id": "8d41f7d9bac641b2b4b58e34486dcb39",
       "version_major": 2,
       "version_minor": 0
      },
      "text/plain": [
       "IntText(value=0, description='Number of orbits:')"
      ]
     },
     "metadata": {},
     "output_type": "display_data"
    },
    {
     "data": {
      "application/vnd.jupyter.widget-view+json": {
       "model_id": "ff77c860fd1e4a69b3fa08e10e0a6b90",
       "version_major": 2,
       "version_minor": 0
      },
      "text/plain": [
       "IntText(value=0, description='Number of satellites per orbit:')"
      ]
     },
     "metadata": {},
     "output_type": "display_data"
    },
    {
     "data": {
      "application/vnd.jupyter.widget-view+json": {
       "model_id": "c20f959a5aa74ee8ac08f62a3195636b",
       "version_major": 2,
       "version_minor": 0
      },
      "text/plain": [
       "FloatSlider(value=0.0, description='Orbit inclination:', max=90.0, step=1.0)"
      ]
     },
     "metadata": {},
     "output_type": "display_data"
    },
    {
     "data": {
      "application/vnd.jupyter.widget-view+json": {
       "model_id": "1a70251f43aa4fcab3a476e796c531ae",
       "version_major": 2,
       "version_minor": 0
      },
      "text/plain": [
       "Button(description='Submit', style=ButtonStyle())"
      ]
     },
     "metadata": {},
     "output_type": "display_data"
    },
    {
     "name": "stdout",
     "output_type": "stream",
     "text": [
      "You have selected 4 orbits with 3 satellites each, with an inclination of 40.0 degrees.\n"
     ]
    }
   ],
   "source": [
    "# Widget creation\n",
    "num_orbits = widgets.IntText(description='Number of orbits:', value=0)\n",
    "num_satellites = widgets.IntText(description='Number of satellites per orbit:', value=0)\n",
    "orbit_inclination = widgets.FloatSlider(description='Orbit inclination:', min=0, max=90, step=1)\n",
    "\n",
    "def user_input(var):\n",
    "    n_orbits = num_orbits.value\n",
    "    n_satellites = num_satellites.value\n",
    "    inclination = orbit_inclination.value\n",
    "    if n_orbits < 0 or n_satellites < 0 or inclination < 0:\n",
    "        print('Error: The numbers cannot be negative. Please insert valid numbers.')\n",
    "    else:\n",
    "        print(f'You have selected {n_orbits} orbits with {n_satellites} satellites each, with an inclination of {inclination} degrees.')\n",
    "    \n",
    "# Submit button\n",
    "submit_button = widgets.Button(description='Submit')\n",
    "submit_button.on_click(user_input)\n",
    "\n",
    "display(num_orbits, num_satellites, orbit_inclination, submit_button)"
   ]
  },
  {
   "cell_type": "markdown",
   "id": "1cda4f06",
   "metadata": {},
   "source": [
    "### Almanacs creation as txt files"
   ]
  },
  {
   "cell_type": "code",
   "execution_count": null,
   "id": "fcd230f4",
   "metadata": {},
   "outputs": [],
   "source": [
    "# Orbital radius definition\n",
    "orbit_radius = 8500\n",
    "\n",
    "def txt_creation(var):\n",
    "    n_orbits = num_orbits.value\n",
    "    n_satellites = num_satellites.value\n",
    "    inclination = orbit_inclination.value\n",
    "    \n",
    "    # txt content\n",
    "    output_content = f'Number of orbits: {n_orbits}\\nNumber of satellites per orbit: {n_satellites}\\nOrbit inclination: {inclination} degrees\\nRadius: {orbit_radius} km'\n",
    "    \n",
    "    # Insert content in output file\n",
    "    with open('orbital_data.txt', 'w') as file:\n",
    "        file.write(output_content)\n",
    "    \n",
    "    print('\"orbital_data.txt\" file successfully created!')\n",
    "    \n",
    "    # Creare un link per scaricare il file\n",
    "    display(FileLink('orbital_data.txt'))\n",
    "\n",
    "# Submit button\n",
    "submit_button = widgets.Button(description='Create file')\n",
    "submit_button.on_click(txt_creation)\n",
    "\n",
    "display(submit_button)\n",
    "\n",
    "# TODO: download button\n",
    "# TODO: non sovrascrivere\n",
    "# aggiungere GMe e OmegaEDot"
   ]
  },
  {
   "cell_type": "code",
   "execution_count": null,
   "id": "2827d6c2",
   "metadata": {},
   "outputs": [],
   "source": [
    "# Orbital radius definition\n",
    "orbit_radius = 8500\n",
    "\n",
    "num_orbits = int(num_orbits.value)\n",
    "num_satellites = int(num_satellites.value)\n",
    "inclination = int(orbit_inclination.value)\n",
    "\n",
    "for i_orb in range(1, num_orbits + 1):\n",
    "    Omega0 = (i_orb - 1) * 180 / num_orbits\n",
    "    \n",
    "    # Ciclo interno sui satelliti\n",
    "    for i_sat in range(1, num_satellites + 1):\n",
    "        M0 = (360 / num_satellites) * (i_sat - 1) + 360 / num_satellites * ((i_orb - 1) / num_orbits)\n",
    "        \n",
    "        print(f'Omega0: {Omega0}, M0: {M0} per orbita {i_orb}, satellite {i_sat}')"
   ]
  },
  {
   "cell_type": "code",
   "execution_count": 3,
   "id": "47cacf33",
   "metadata": {},
   "outputs": [],
   "source": [
    "num_orbits = int(num_orbits.value)\n",
    "num_satellites = int(num_satellites.value)\n",
    "inclination = int(orbit_inclination.value)\n",
    "\n",
    "# Almanac folder creation\n",
    "if not os.path.exists('Almanacs'):\n",
    "    os.makedirs('Almanacs')    \n",
    "\n",
    "# Orbital radius definition\n",
    "orbit_radius = 8500\n",
    "\n",
    "def create_satellite_txt(i_orbit, i_satellite):\n",
    "    # Nome del satellite\n",
    "    satellite_name = f'LEO {i_orbit:02}{i_satellite:02}'\n",
    "    \n",
    "    # M0 computation\n",
    "    M0 = 360 / num_satellites * (i_satellite - 1) + 360 / num_satellites * ((i_orbit - 1) / num_orbits)\n",
    "    \n",
    "    # Omega0 computation\n",
    "    Omega0 = (i_orbit - 1) * 180 / num_orbits\n",
    "    \n",
    "    # Contenuto del file di testo\n",
    "    output_content = f'Satellite Name: {satellite_name}\\nRadius: {orbit_radius} km\\nM0: {M0}\\nOmega0: {Omega0}\\nInclination: {int(orbit_inclination.value)} degrees'\n",
    "    \n",
    "    # Percorso del file di testo\n",
    "    file_path = f'Almanacs/{satellite_name}.txt'\n",
    "    \n",
    "    # Scrivere il contenuto nel file di output\n",
    "    with open(file_path, 'w') as file:\n",
    "        file.write(output_content)\n",
    "\n",
    "# Ciclo esterno sui piani orbitali\n",
    "for i_orb in range(1, num_orbits + 1):\n",
    "    # Ciclo interno sui satelliti\n",
    "    for i_sat in range(1, num_satellites + 1):\n",
    "        create_satellite_txt(i_orb, i_sat)"
   ]
  },
  {
   "cell_type": "code",
   "execution_count": null,
   "id": "d050a43b",
   "metadata": {},
   "outputs": [],
   "source": [
    "num_orbits = int(num_orbits.value)\n",
    "num_satellites = int(num_satellites.value)\n",
    "inclination = int(orbit_inclination.value)\n",
    "\n",
    "# Creazione della cartella \"Almanacs\" se non esiste\n",
    "if not os.path.exists('Almanacs'):\n",
    "    os.makedirs('Almanacs')    \n",
    "\n",
    "# Orbital radius definition\n",
    "orbit_radius = 8500\n",
    "\n",
    "def create_satellite_txt(orbit_num, satellite_num):\n",
    "    # Nome del satellite\n",
    "    satellite_name = f'LEO {orbit_num:02}{satellite_num:02}'\n",
    "    \n",
    "    # Contenuto del file di testo\n",
    "    output_content = f'Satellite Name: {satellite_name}\\nRadius: {orbit_radius} km\\nM0: {360 / num_satellites * (satellite_num - 1) + 360 / num_satellites * ((orbit_num - 1) / num_orbits)}\\nOmega0: {(orbit_num - 1) * 180 / num_orbits}\\nInclination: {int(orbit_inclination.value)} degrees'\n",
    "    \n",
    "    # Percorso del file di testo\n",
    "    file_path = f'Almanacs/{satellite_name}.txt'\n",
    "    \n",
    "    # Scrivere il contenuto nel file di output\n",
    "    with open(file_path, 'w') as file:\n",
    "        file.write(output_content)\n",
    "\n",
    "# Ciclo esterno sui piani orbitali\n",
    "for i_orb in range(1, num_orbits + 1):\n",
    "    # Ciclo interno sui satelliti\n",
    "    for i_sat in range(1, num_satellites + 1):\n",
    "        create_satellite_txt(i_orb, i_sat)"
   ]
  },
  {
   "cell_type": "code",
   "execution_count": null,
   "id": "29e85c7b",
   "metadata": {},
   "outputs": [],
   "source": []
  }
 ],
 "metadata": {
  "kernelspec": {
   "display_name": "Python 3 (ipykernel)",
   "language": "python",
   "name": "python3"
  },
  "language_info": {
   "codemirror_mode": {
    "name": "ipython",
    "version": 3
   },
   "file_extension": ".py",
   "mimetype": "text/x-python",
   "name": "python",
   "nbconvert_exporter": "python",
   "pygments_lexer": "ipython3",
   "version": "3.11.0"
  }
 },
 "nbformat": 4,
 "nbformat_minor": 5
}
