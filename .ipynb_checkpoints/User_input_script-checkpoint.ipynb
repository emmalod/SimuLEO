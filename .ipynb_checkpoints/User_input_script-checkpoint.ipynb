{
 "cells": [
  {
   "cell_type": "code",
   "execution_count": null,
   "id": "3af0c756",
   "metadata": {},
   "outputs": [],
   "source": [
    "import ipywidgets as widgets\n",
    "from IPython.display import display\n",
    "from IPython.display import FileLink"
   ]
  },
  {
   "cell_type": "code",
   "execution_count": null,
   "id": "02c839de",
   "metadata": {},
   "outputs": [],
   "source": [
    "# Insert number of orbits, number of satellites per orbit, inclination of the orbit\n",
    "\n",
    "# Widget creation\n",
    "num_orbits = widgets.IntText(description='Number of orbits:', value=0)\n",
    "num_satellites = widgets.IntText(description='Number of satellites per orbit:', value=0)\n",
    "orbit_inclination = widgets.FloatSlider(description='Orbit inclination:', min=0, max=90, step=1)\n",
    "\n",
    "# TODO: inserire errore se numeri negativi\n",
    "\n",
    "def user_input(sender):\n",
    "    n_orbits = num_orbits.value\n",
    "    n_satellites = num_satellites.value\n",
    "    inclination = orbit_inclination.value\n",
    "    print(f'You have selected {n_orbits} orbits with {n_satellites} satellites each, with an inclination of {inclination} degrees.')\n",
    "\n",
    "# Submit button\n",
    "submit_button = widgets.Button(description='Submit')\n",
    "submit_button.on_click(user_input)\n",
    "\n",
    "display(num_orbits, num_satellites, orbit_inclination, submit_button)"
   ]
  },
  {
   "cell_type": "code",
   "execution_count": null,
   "id": "fcd230f4",
   "metadata": {},
   "outputs": [],
   "source": [
    "# txt creation\n",
    "\n",
    "# Orbital radius definition\n",
    "orbit_radius = 8500\n",
    "#GMe = 3.986005D+14; (m3/s2)\n",
    "#OmegaEdot = 7.2921151467D-05 (radians)\n",
    "\n",
    "def txt_creation(sender):\n",
    "    n_orbits = num_orbits.value\n",
    "    n_satellites = num_satellites.value\n",
    "    inclination = orbit_inclination.value\n",
    "    \n",
    "    # txt content\n",
    "    output_content = f'Number of orbits: {n_orbits}\\nNumber of satellites per orbit: {n_satellites}\\nOrbit inclination: {inclination} degrees\\nRadius: {orbit_radius} km'\n",
    "    \n",
    "    # Insert content in output file\n",
    "    with open('orbital_data.txt', 'w') as file:\n",
    "        file.write(output_content)\n",
    "    \n",
    "    print('\"orbital_data.txt\" file successfully created!')\n",
    "    \n",
    "    # Creare un link per scaricare il file\n",
    "    display(FileLink('orbital_data.txt'))\n",
    "\n",
    "# Submit button\n",
    "submit_button = widgets.Button(description='Create file')\n",
    "submit_button.on_click(txt_creation)\n",
    "\n",
    "display(submit_button)\n",
    "\n",
    "# TODO: download button\n",
    "# TODO: non sovrascrivere\n",
    "# aggiungere GMe e OmegaEDot"
   ]
  },
  {
   "cell_type": "code",
   "execution_count": null,
   "id": "2827d6c2",
   "metadata": {},
   "outputs": [],
   "source": []
  }
 ],
 "metadata": {
  "kernelspec": {
   "display_name": "Python 3 (ipykernel)",
   "language": "python",
   "name": "python3"
  },
  "language_info": {
   "codemirror_mode": {
    "name": "ipython",
    "version": 3
   },
   "file_extension": ".py",
   "mimetype": "text/x-python",
   "name": "python",
   "nbconvert_exporter": "python",
   "pygments_lexer": "ipython3",
   "version": "3.11.0"
  }
 },
 "nbformat": 4,
 "nbformat_minor": 5
}
