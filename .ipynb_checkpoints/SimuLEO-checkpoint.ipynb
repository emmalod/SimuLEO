{
 "cells": [
  {
   "cell_type": "markdown",
   "id": "ebc5ac78",
   "metadata": {},
   "source": [
    "# Geoinformatics Project\n",
    "---\n",
    "# LEO satellites orbits simulator\n",
    "###### Angelica Iseni, Emma Lodetti"
   ]
  },
  {
   "cell_type": "markdown",
   "id": "5fe2e1aa",
   "metadata": {},
   "source": [
    "The **goal** of this project is to compute the position of each LEO (Low Earth orbit) satellite in the constellation for every second of the day."
   ]
  },
  {
   "cell_type": "markdown",
   "id": "9c56556d",
   "metadata": {},
   "source": [
    "In this script you will be asked to enter: \n",
    "- The **number of orbital planes** of the costellation\n",
    "- The **number of satellites** per orbital plane\n",
    "- The **inclination** of the orbital planes with respect to the reference equatorial plane\n",
    "\n",
    "This information will be used to create almanacs of the constellation satellites."
   ]
  },
  {
   "cell_type": "code",
   "execution_count": 1,
   "id": "3af0c756",
   "metadata": {},
   "outputs": [],
   "source": [
    "# Import libraries\n",
    "\n",
    "import ipywidgets as widgets\n",
    "from IPython.display import display\n",
    "from IPython.display import FileLink\n",
    "import os\n",
    "import pandas as pd\n",
    "import pyproj\n",
    "import plotly.graph_objects as go\n",
    "import tkinter as tk"
   ]
  },
  {
   "cell_type": "markdown",
   "id": "47cf7b27",
   "metadata": {},
   "source": [
    "### Function definition"
   ]
  },
  {
   "cell_type": "code",
   "execution_count": 5,
   "id": "6d234bbd",
   "metadata": {},
   "outputs": [],
   "source": [
    "# input parameters function\n",
    "def user_input(var):\n",
    "    \n",
    "    n_orbits = num_orbits.value\n",
    "    n_satellites = num_satellites.value\n",
    "    inclination = orbit_inclination.value\n",
    "    \n",
    "    if n_orbits < 0 or n_satellites < 0 or inclination < 0:\n",
    "        print('Error: The numbers cannot be negative. Please insert valid numbers.')\n",
    "    else:\n",
    "        print(f'You have selected {n_orbits} orbital planes with {n_satellites} satellites each, with an inclination of {inclination} degrees.')\n",
    "\n",
    "name_list = []\n",
    "        \n",
    "# txt creation function\n",
    "def create_satellite_txt(i_orbit, i_satellite):\n",
    "    \n",
    "    # Satellite name creation as \"LEO XXYY\", where XX = orbit number and YY = satellite number\n",
    "    satellite_name = f'LEO{i_orbit:02}{i_satellite:02}'\n",
    "    name_list.append(satellite_name)\n",
    "    \n",
    "    # M0 computation\n",
    "    M0 = 360 / num_satellites * (i_satellite - 1) + 360 / num_satellites * ((i_orbit - 1) / num_orbits)\n",
    "    \n",
    "    # Omega0 computation\n",
    "    Omega0 = (i_orbit - 1) * 180 / num_orbits\n",
    "    \n",
    "    # Almanac content\n",
    "    output_content = f'SatelliteName {satellite_name}\\nOrbitRadius {orbit_radius}\\nOrbitInclination {inclination}\\nM0 {M0}\\nOmega0 {Omega0}'\n",
    "    \n",
    "    # txt file path\n",
    "    file_path = f'Almanacs{num_orbits:02}{num_satellites:02}{inclination:02}/{satellite_name}.txt'\n",
    "    \n",
    "    # Write content in txt file\n",
    "    with open(file_path, 'w') as file:\n",
    "        file.write(output_content)\n",
    "        \n",
    "    # Return list of satellite nemes for plot selection\n",
    "    return name_list\n",
    "\n",
    "# Path selector\n",
    "#def get_path():\n",
    " #   path = path_entry.get()\n",
    "  #  print(f\"Select Solution path you want to plot: {path}\")\n",
    "    \n",
    "def get_path():\n",
    "    global selected_path\n",
    "    path = path_entry.get()\n",
    "    path = path.replace('\\\\', '/')\n",
    "    path = path.strip('\"')\n",
    "    selected_path = path\n",
    "    #print(f\"Selected path: {path}\")\n",
    "    return path"
   ]
  },
  {
   "cell_type": "markdown",
   "id": "92d16e75",
   "metadata": {},
   "source": [
    "### Input parameters\n",
    "Insert number of orbits, number of satellites per orbit and inclination of the orbit."
   ]
  },
  {
   "cell_type": "code",
   "execution_count": 8,
   "id": "02c839de",
   "metadata": {},
   "outputs": [
    {
     "data": {
      "application/vnd.jupyter.widget-view+json": {
       "model_id": "653e80f864eb47099c9ab3a13dab65e8",
       "version_major": 2,
       "version_minor": 0
      },
      "text/plain": [
       "IntText(value=0, description='Number of orbital planes:', style=DescriptionStyle(description_width='initial'))"
      ]
     },
     "metadata": {},
     "output_type": "display_data"
    },
    {
     "data": {
      "application/vnd.jupyter.widget-view+json": {
       "model_id": "8e9a40ce59b342e6bf3ba2b606ac637b",
       "version_major": 2,
       "version_minor": 0
      },
      "text/plain": [
       "IntText(value=0, description='Number of satellites per orbital plane:', style=DescriptionStyle(description_wid…"
      ]
     },
     "metadata": {},
     "output_type": "display_data"
    },
    {
     "data": {
      "application/vnd.jupyter.widget-view+json": {
       "model_id": "9b60c379655d46df802acebf7cdb4d5e",
       "version_major": 2,
       "version_minor": 0
      },
      "text/plain": [
       "FloatSlider(value=0.0, description='Orbit inclination:', max=90.0, step=1.0, style=SliderStyle(description_wid…"
      ]
     },
     "metadata": {},
     "output_type": "display_data"
    },
    {
     "data": {
      "application/vnd.jupyter.widget-view+json": {
       "model_id": "e63201210ca64e33b4aae90143698347",
       "version_major": 2,
       "version_minor": 0
      },
      "text/plain": [
       "Button(description='Submit', style=ButtonStyle())"
      ]
     },
     "metadata": {},
     "output_type": "display_data"
    },
    {
     "name": "stdout",
     "output_type": "stream",
     "text": [
      "You have selected 6 orbital planes with 2 satellites each, with an inclination of 88.0 degrees.\n"
     ]
    }
   ],
   "source": [
    "# Widget creation\n",
    "style = {'description_width': 'initial'}\n",
    "num_orbits = widgets.IntText(description='Number of orbital planes:', value=0, style=style)\n",
    "num_satellites = widgets.IntText(description='Number of satellites per orbital plane:', value=0, style=style)\n",
    "orbit_inclination = widgets.FloatSlider(description='Orbit inclination:', min=0, max=90, step=1, style=style)\n",
    "    \n",
    "# Submit button\n",
    "submit_button = widgets.Button(description='Submit')\n",
    "submit_button.on_click(user_input)\n",
    "\n",
    "display(num_orbits, num_satellites, orbit_inclination, submit_button)"
   ]
  },
  {
   "cell_type": "markdown",
   "id": "1cda4f06",
   "metadata": {},
   "source": [
    "### Folders and Almanacs creation as txt files"
   ]
  },
  {
   "cell_type": "code",
   "execution_count": 9,
   "id": "b376b644",
   "metadata": {},
   "outputs": [
    {
     "name": "stdout",
     "output_type": "stream",
     "text": [
      "Almanacs created successfully!\n"
     ]
    }
   ],
   "source": [
    "# Convert values to integers\n",
    "num_orbits = int(num_orbits.value)\n",
    "num_satellites = int(num_satellites.value)\n",
    "inclination = int(orbit_inclination.value)\n",
    "\n",
    "# Almanac folder creation\n",
    "# \"AlmanacsXXYYZZ\": XX = number of orbital planes, YY = number of satellites per orbital plane, ZZ = inclination of orbital planes\n",
    "if not os.path.exists(f'Almanacs{num_orbits:02}{num_satellites:02}{inclination:02}'):\n",
    "    os.makedirs(f'Almanacs{num_orbits:02}{num_satellites:02}{inclination:02}')\n",
    "\n",
    "# Satellite positon output folder creation\n",
    "# \"SatellitePositionsXXYYZZ\": XX = number of orbital planes, YY = number of satellites per orbital plane, ZZ = inclination of orbital planes\n",
    "if not os.path.exists(f'SatellitePositions{num_orbits:02}{num_satellites:02}{inclination:02}'):\n",
    "    os.makedirs(f'SatellitePositions{num_orbits:02}{num_satellites:02}{inclination:02}')\n",
    "    out_folder_name = f'SatellitePositions{num_orbits:02}{num_satellites:02}{inclination:02}'\n",
    "\n",
    "# Orbital radius definition\n",
    "orbit_radius = 7180 #km\n",
    "\n",
    "# for cycle on orbit number\n",
    "for i_orb in range(1, num_orbits + 1):\n",
    "    # for cycle on satellite number per orbit\n",
    "    for i_sat in range(1, num_satellites + 1):\n",
    "            sat_name_list = create_satellite_txt(i_orb, i_sat)\n",
    "        \n",
    "print(f'Almanacs created successfully!')"
   ]
  },
  {
   "cell_type": "code",
   "execution_count": null,
   "id": "5d7722c7",
   "metadata": {},
   "outputs": [],
   "source": [
    "# MATLAB"
   ]
  },
  {
   "cell_type": "markdown",
   "id": "35a2cff3",
   "metadata": {},
   "source": [
    "# Plot Ground Tracks"
   ]
  },
  {
   "cell_type": "code",
   "execution_count": null,
   "id": "381c2a09",
   "metadata": {},
   "outputs": [],
   "source": [
    "root = tk.Tk()\n",
    "root.title(\"Path Selector\")\n",
    "\n",
    "path_label = tk.Label(root, text=\"Enter the path of the solution you want to plot:\")\n",
    "path_label.pack()\n",
    "\n",
    "path_entry = tk.Entry(root, width=50)\n",
    "path_entry.pack()\n",
    "\n",
    "submit_button = tk.Button(root, text=\"Submit\", command=get_path)\n",
    "submit_button.pack()\n",
    "\n",
    "root.mainloop()"
   ]
  },
  {
   "cell_type": "code",
   "execution_count": null,
   "id": "80b8d837",
   "metadata": {},
   "outputs": [],
   "source": [
    "selected_path = \"\"  # Variabile per memorizzare il percorso selezionato\n",
    "\n",
    "root = tk.Tk()\n",
    "root.title(\"Path Selector\")\n",
    "\n",
    "path_label = tk.Label(root, text=\"Enter the path of the solution you want to plot:\")\n",
    "path_label.pack()\n",
    "\n",
    "path_entry = tk.Entry(root, width=50)\n",
    "path_entry.pack()\n",
    "\n",
    "submit_button = tk.Button(root, text=\"Submit\", command=get_path)\n",
    "submit_button.pack()\n",
    "\n",
    "root.mainloop()\n",
    "\n",
    "print(f\"Returned path: {selected_path}\")"
   ]
  },
  {
   "cell_type": "code",
   "execution_count": null,
   "id": "4ce94e88",
   "metadata": {},
   "outputs": [],
   "source": [
    "folder_path = selected_path  # Replace this with the path to your folder\n",
    "\n",
    "sat_names = []\n",
    "\n",
    "for file in os.listdir(folder_path):\n",
    "    if os.path.isfile(os.path.join(folder_path, file)):\n",
    "        file = file.strip('.txt')\n",
    "        sat_names.append(file)\n",
    "\n",
    "print(sat_names)"
   ]
  },
  {
   "cell_type": "code",
   "execution_count": null,
   "id": "5700c2fe",
   "metadata": {},
   "outputs": [],
   "source": [
    "# Plot selection\n",
    "plot_sat = widgets.Dropdown(\n",
    "            options = sat_names,\n",
    "            value = sat_names[0],\n",
    "            description='Select satellite:',\n",
    "            disabled = False,\n",
    "            style = style,\n",
    "            )\n",
    "\n",
    "display(plot_sat)"
   ]
  },
  {
   "cell_type": "code",
   "execution_count": null,
   "id": "1b08364c",
   "metadata": {},
   "outputs": [],
   "source": [
    "path = selected_path + '/' + plot_sat.value + '.txt'\n",
    "data = pd.read_csv(path, sep=' ', header=None, names=['latitude', 'longitude', 'height'])"
   ]
  },
  {
   "cell_type": "code",
   "execution_count": null,
   "id": "e8be6970",
   "metadata": {},
   "outputs": [],
   "source": [
    "# FOR EXPERIMENTS - DELATE LATER\n",
    "\n",
    "data = pd.read_csv(f'SatellitePositions050530\\LEO0101.txt', sep=' ', header=None, names=['latitude', 'longitude', 'height'])"
   ]
  },
  {
   "cell_type": "code",
   "execution_count": null,
   "id": "6041db26",
   "metadata": {},
   "outputs": [],
   "source": [
    "fig = go.Figure(data=go.Scattergeo(\n",
    "    lat = data['latitude'],\n",
    "    lon = data['longitude'],\n",
    "    mode = 'lines',\n",
    "    line = dict(width = 2, color = 'red'),\n",
    "))\n",
    "\n",
    "fig.update_layout(\n",
    "    title_text = 'Groundtrack',\n",
    "    showlegend = False,\n",
    "    geo = dict(\n",
    "        resolution = 50,\n",
    "        showland = True,\n",
    "        showlakes = True,\n",
    "        #landcolor = 'rgb(204, 204, 204)',\n",
    "        #countrycolor = 'rgb(204, 204, 204)',\n",
    "        #lakecolor = 'rgb(255, 255, 255)',\n",
    "        landcolor = 'rgb(243, 243, 243)',\n",
    "        countrycolor = 'rgb(204, 204, 204)',\n",
    "        projection_type = \"miller\",\n",
    "        coastlinewidth = 1,\n",
    "        coastlinecolor = 'rgb(204, 204, 204)',\n",
    "        lataxis = dict(\n",
    "            range = [-90, 90],\n",
    "            showgrid = True,\n",
    "            dtick = 10\n",
    "        ),\n",
    "        lonaxis = dict(\n",
    "            range = [-180, 180],\n",
    "            showgrid = True,\n",
    "            dtick = 20\n",
    "        ),\n",
    "    )\n",
    ")\n",
    "\n",
    "fig.show()"
   ]
  },
  {
   "cell_type": "code",
   "execution_count": null,
   "id": "094cb04b",
   "metadata": {},
   "outputs": [],
   "source": [
    "df = pd.read_csv('https://raw.githubusercontent.com/plotly/datasets/master/globe_contours.csv')\n",
    "df.head()\n",
    "\n",
    "\n",
    "scl = ['rgb(213,62,79)', 'rgb(244,109,67)', 'rgb(253,174,97)', \\\n",
    "    'rgb(254,224,139)', 'rgb(255,255,191)', 'rgb(230,245,152)', \\\n",
    "    'rgb(171,221,164)', 'rgb(102,194,165)', 'rgb(50,136,189)'\n",
    "]\n",
    "n_colors = len(scl)\n",
    "\n",
    "fig = go.Figure()\n",
    "\n",
    "for i, (lat, lon) in enumerate(zip(data.columns[::2], data.columns[1::2])):\n",
    "    fig.add_trace(go.Scattergeo(\n",
    "        lon = data[lon],\n",
    "        lat = data[lat],\n",
    "        mode = 'lines',\n",
    "        line = dict(width = 2, color = scl[i % n_colors]\n",
    "        )))\n",
    "\n",
    "fig.update_layout(\n",
    "    title_text = 'Contour lines over globe<br>(Click and drag to rotate)',\n",
    "    showlegend = False,\n",
    "    geo = dict(\n",
    "        showland = True,\n",
    "        showcountries = True,\n",
    "        showocean = True,\n",
    "        countrywidth = 0.5,\n",
    "        #landcolor = 'rgb(102, 203, 95)',\n",
    "        #lakecolor = 'rgb(125, 182, 255)',\n",
    "        #oceancolor = 'rgb(125, 182, 255)',\n",
    "        #landcolor = 'rgb(243, 243, 243)',\n",
    "        oceancolor = 'rgb(255, 255, 255)',\n",
    "        countrycolor = 'rgb(204, 204, 204)',\n",
    "        projection_type = \"miller\",\n",
    "        coastlinewidth = 1,\n",
    "        coastlinecolor = 'rgb(204, 204, 204)',\n",
    "        projection = dict(\n",
    "            type = 'orthographic',\n",
    "            rotation = dict(\n",
    "                lon = -100,\n",
    "                lat = 40,\n",
    "                roll = 0\n",
    "            )\n",
    "        ),\n",
    "        lonaxis = dict(\n",
    "            showgrid = True,\n",
    "            gridcolor = 'rgb(102, 102, 102)',\n",
    "            gridwidth = 0.5\n",
    "        ),\n",
    "        lataxis = dict(\n",
    "            showgrid = True,\n",
    "            gridcolor = 'rgb(102, 102, 102)',\n",
    "            gridwidth = 0.5\n",
    "        )\n",
    "    )\n",
    ")\n",
    "\n",
    "fig.show()"
   ]
  }
 ],
 "metadata": {
  "kernelspec": {
   "display_name": "Python 3 (ipykernel)",
   "language": "python",
   "name": "python3"
  },
  "language_info": {
   "codemirror_mode": {
    "name": "ipython",
    "version": 3
   },
   "file_extension": ".py",
   "mimetype": "text/x-python",
   "name": "python",
   "nbconvert_exporter": "python",
   "pygments_lexer": "ipython3",
   "version": "3.9.13"
  }
 },
 "nbformat": 4,
 "nbformat_minor": 5
}
